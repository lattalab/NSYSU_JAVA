{
 "cells": [
  {
   "cell_type": "code",
   "execution_count": 1,
   "metadata": {},
   "outputs": [
    {
     "name": "stdout",
     "output_type": "stream",
     "text": [
      "Hello Python!\n"
     ]
    }
   ],
   "source": [
    "title = \"Hello Python!\"\n",
    "\n",
    "# create a 匿名函式\n",
    "(lambda x: print(x)) (title) \n",
    "\n",
    "# 1. lambda 變數 : 表達式 (這樣就是一個函式)\n",
    "# 2. 後面 (title) 代表傳參數給 lambda"
   ]
  },
  {
   "cell_type": "code",
   "execution_count": 2,
   "metadata": {},
   "outputs": [
    {
     "name": "stdout",
     "output_type": "stream",
     "text": [
      "[1, 3, 5, 7, 9, 11, 13, 15, 17, 19, 21, 23]\n"
     ]
    }
   ],
   "source": [
    "# filter() \n",
    "val = [i for i in range(25)]\n",
    "\n",
    "fil_1 = filter(lambda x: x%2 , val) # 找奇數\n",
    "print(list(fil_1)) # filter不會回傳一個list ， 要自己轉型"
   ]
  },
  {
   "cell_type": "code",
   "execution_count": 3,
   "metadata": {},
   "outputs": [
    {
     "name": "stdout",
     "output_type": "stream",
     "text": [
      "15\n"
     ]
    }
   ],
   "source": [
    "from functools import reduce\n",
    "total = reduce(lambda x,y :x+y , range(6))\n",
    "print(total)"
   ]
  },
  {
   "cell_type": "code",
   "execution_count": 4,
   "metadata": {},
   "outputs": [
    {
     "name": "stdout",
     "output_type": "stream",
     "text": [
      "[6, 18, 12, 65, 6, 16, 14]\n"
     ]
    }
   ],
   "source": [
    "Base = [2,3,4,5,1,2,7]\n",
    "w = [3,6,3,13,6,8,2]\n",
    "\n",
    "map_1 = map(lambda x,y: x*y, Base,w)\n",
    "print(list(map_1)) # map不會回傳一個list ， 要自己轉型"
   ]
  },
  {
   "cell_type": "code",
   "execution_count": null,
   "metadata": {},
   "outputs": [],
   "source": []
  }
 ],
 "metadata": {
  "kernelspec": {
   "display_name": "base",
   "language": "python",
   "name": "python3"
  },
  "language_info": {
   "codemirror_mode": {
    "name": "ipython",
    "version": 3
   },
   "file_extension": ".py",
   "mimetype": "text/x-python",
   "name": "python",
   "nbconvert_exporter": "python",
   "pygments_lexer": "ipython3",
   "version": "3.9.13"
  },
  "orig_nbformat": 4
 },
 "nbformat": 4,
 "nbformat_minor": 2
}
