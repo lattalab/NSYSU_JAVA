{
 "cells": [
  {
   "cell_type": "code",
   "execution_count": 2,
   "metadata": {},
   "outputs": [
    {
     "data": {
      "application/vnd.jupyter.widget-view+json": {
       "model_id": "24e49e0a8aa549b887d8abcf31eb7c89",
       "version_major": 2,
       "version_minor": 0
      },
      "text/plain": [
       "interactive(children=(IntSlider(value=10, description='a', max=30, min=-10), IntSlider(value=20, description='…"
      ]
     },
     "metadata": {},
     "output_type": "display_data"
    }
   ],
   "source": [
    "from ipywidgets import interactive\n",
    "from IPython.display import display\n",
    "\n",
    "def f(a, b):\n",
    "    display(a + b)\n",
    "    return a+b\n",
    "    \n",
    "# interactive 預設不會顯示 UI\n",
    "w = interactive(f, a=10, b=20)\n",
    "\n",
    "# 顯示 UI\n",
    "display(w)"
   ]
  },
  {
   "cell_type": "code",
   "execution_count": 3,
   "metadata": {},
   "outputs": [],
   "source": [
    "# figure 8-2\n",
    "from tkinter import *\n",
    "\n",
    "window = Tk()\n",
    "window.title(\"Button\")\n",
    "btnCalculate = Button(window,text=\"Calculate\", bg=\"light blue\")\n",
    "btnCalculate.grid(padx=75, pady=15)\n",
    "window.mainloop()"
   ]
  },
  {
   "cell_type": "code",
   "execution_count": 1,
   "metadata": {},
   "outputs": [],
   "source": [
    "# figure 8-2 Example 1\n",
    "from tkinter import *\n",
    "\n",
    "def changeColor():\n",
    "    if btnCalculate[\"fg\"] == \"blue\": # if caption is blue\n",
    "        btnCalculate[\"fg\"] = \"red\" # change color to red\n",
    "    else:\n",
    "        btnCalculate[\"fg\"] = \"blue\" # change color to blue\n",
    "        \n",
    "window = Tk()\n",
    "window.title(\"Button\")\n",
    "# command 的功能為 按下按鈕 就呼叫 changeColor()\n",
    "# fg 為字形顏色\n",
    "btnCalculate = Button(window, text=\"Calculate\", fg=\"blue\", command=changeColor)\n",
    "btnCalculate.grid(padx=100, pady=15)\n",
    "window.mainloop()"
   ]
  },
  {
   "cell_type": "code",
   "execution_count": 5,
   "metadata": {},
   "outputs": [],
   "source": [
    "from tkinter import *\n",
    "\n",
    "window = Tk()\n",
    "window.title(\"Entry Widget\")\n",
    "entName = Entry(window, width=20) # 可以輸入20字母的長度，輸入會是捲動式的\n",
    "entName.grid(padx=100, pady=15)\n",
    "window.mainloop()"
   ]
  },
  {
   "cell_type": "code",
   "execution_count": 7,
   "metadata": {},
   "outputs": [],
   "source": [
    "# Example 2\n",
    "from tkinter import *\n",
    "\n",
    "def changeColor(event):\n",
    "    if entName[\"fg\"] == \"blue\": # if Entry widget text is colored blue\n",
    "        entName[\"fg\"] = \"red\" # change color of text to red\n",
    "    else:\n",
    "        entName[\"fg\"] = \"blue\" # change color of text to blue\n",
    "\n",
    "window = Tk()\n",
    "window.title(\"Entry widget\")\n",
    "entName = Entry(window, fg=\"blue\")\n",
    "entName.grid(padx=100, pady=15) # 擺的位置\n",
    "# Button-3 右鍵\n",
    "# 按下右鍵會改變顏色\n",
    "entName.bind(\"<Button-3>\", changeColor) # specify right-click as an event\n",
    "window.mainloop()"
   ]
  },
  {
   "cell_type": "code",
   "execution_count": 8,
   "metadata": {},
   "outputs": [],
   "source": [
    "# Example 3\n",
    "from tkinter import *\n",
    "\n",
    "def convertToUpperCase(event): # event = 右鍵 = <Button-3>\n",
    "    conOFentName.set(conOFentName.get().upper())\n",
    "\n",
    "window = Tk()\n",
    "window.title(\"Entry widget\")\n",
    "\n",
    "conOFentName = StringVar() # contents of the Entry widget\n",
    "# 初始化Entry時，有一個textvariable\n",
    "# 我們放入剛剛設定的變數，來得到這些值\n",
    "entName = Entry(window, textvariable=conOFentName) \n",
    "\n",
    "entName.grid(padx=100, pady=15)\n",
    "entName.bind(\"<Button-3>\", convertToUpperCase)\n",
    "window.mainloop()"
   ]
  },
  {
   "cell_type": "code",
   "execution_count": 9,
   "metadata": {},
   "outputs": [],
   "source": [
    "# Figure 8.6\n",
    "from tkinter import *\n",
    "\n",
    "window = Tk()\n",
    "window.title(\"ReadOnly Entry Widget\")\n",
    "entOutput = Entry(window, width=20, state=\"readonly\") #用鍵盤key內容打不進去(不能寫進去)\n",
    "entOutput.grid(padx=100, pady=15)\n",
    "window.mainloop()"
   ]
  },
  {
   "cell_type": "code",
   "execution_count": 10,
   "metadata": {},
   "outputs": [],
   "source": [
    "# Example 4\n",
    "from tkinter import *\n",
    "\n",
    "window = Tk()\n",
    "window.title(\"ReadOnly Entry Widget\")\n",
    "conOFentOutput = StringVar() # contents of widget\n",
    "entOutput = Entry(window, state=\"readonly\", textvariable=conOFentOutput)\n",
    "entOutput.grid(padx=100, pady=15)\n",
    "conOFentOutput.set(\"Hello World!\")\n",
    "window.mainloop()"
   ]
  },
  {
   "cell_type": "code",
   "execution_count": 13,
   "metadata": {},
   "outputs": [],
   "source": [
    "# Figure 8.7\n",
    "from tkinter import *\n",
    "\n",
    "window = Tk()\n",
    "window.title(\"Listbox\")\n",
    "lstName = Listbox(window, width=10, height=5)\n",
    "lstName.grid(padx=100, pady=15)\n",
    "window.mainloop()"
   ]
  },
  {
   "cell_type": "code",
   "execution_count": 12,
   "metadata": {},
   "outputs": [],
   "source": [
    "# Example 5 List of Colors\n",
    "from tkinter import *\n",
    "\n",
    "window = Tk()\n",
    "window.title(\"Colors\")\n",
    "L = [\"red\", \"yellow\", \"light blue\", \"orange\"]\n",
    "conOFlstColors = StringVar() # contents of the list box\n",
    "lstColors = Listbox(window, width=10, height=5, listvariable=conOFlstColors)\n",
    "lstColors.grid(padx=100, pady=15)\n",
    "conOFlstColors.set(tuple(L))\n",
    "window.mainloop()"
   ]
  },
  {
   "cell_type": "code",
   "execution_count": 14,
   "metadata": {},
   "outputs": [],
   "source": [
    "# Example 6 List of Colors\n",
    "# 選到list中某個顏色，背景就改成那個顏色\n",
    "from tkinter import *\n",
    "\n",
    "def changeBackgroundColor(event):\n",
    "    lstColors[\"bg\"] = lstColors.get(lstColors.curselection())\n",
    "    \n",
    "window = Tk()\n",
    "window.title(\"Colors\")\n",
    "L = [\"red\", \"yellow\", \"light blue\", \"orange\"]\n",
    "conOFlstColors = StringVar()\n",
    "lstColors = Listbox(window, width=10, height=5, listvariable=conOFlstColors)\n",
    "lstColors.grid(padx=100, pady=15)\n",
    "conOFlstColors.set(tuple(L))\n",
    "lstColors.bind(\"<<ListboxSelect>>\", changeBackgroundColor)\n",
    "window.mainloop()"
   ]
  },
  {
   "cell_type": "code",
   "execution_count": 15,
   "metadata": {},
   "outputs": [],
   "source": [
    "# Example 7 List of Colors\n",
    "from tkinter import *\n",
    "\n",
    "def sortItems(event):\n",
    "    L.sort()\n",
    "    conOFlstColors.set(tuple(L))\n",
    "    \n",
    "window = Tk()\n",
    "window.title(\"Colors\")\n",
    "L = [\"red\", \"yellow\", \"light blue\", \"orange\"]\n",
    "conOFlstColors = StringVar()\n",
    "lstColors = Listbox(window, width=10, height=5, listvariable=conOFlstColors)\n",
    "lstColors.grid(padx=100, pady=15)\n",
    "conOFlstColors.set(tuple(L))\n",
    "lstColors.bind(\"<Button-3>\", sortItems)\n",
    "window.mainloop()"
   ]
  },
  {
   "cell_type": "code",
   "execution_count": 16,
   "metadata": {},
   "outputs": [],
   "source": [
    "# Figure 8.8 The Scroll bar Widget\n",
    "from tkinter import *\n",
    "\n",
    "window = Tk()\n",
    "window.title(\"Scrollbar\")\n",
    "yscroll = Scrollbar(window, orient=VERTICAL)\n",
    "yscroll.grid(padx=110, pady=15)\n",
    "window.mainloop()"
   ]
  },
  {
   "cell_type": "code",
   "execution_count": 25,
   "metadata": {},
   "outputs": [],
   "source": [
    "# 8.2 \n",
    "from tkinter import *\n",
    "\n",
    "window = Tk()\n",
    "window.title(\"New England\")\n",
    "yscroll = Scrollbar(window, orient=VERTICAL)\n",
    "yscroll.grid(row=0, column=1, rowspan=4, padx=(0,100), pady=5, sticky=NS)\n",
    "statesList = [\"Connecticut\", \"Maine\", \"Massachusetts\", \"New Hampshire\",\"Rhode Island\", \"Vermont\"]\n",
    "conOFlstNE = StringVar()\n",
    "lstNE = Listbox(window, width=14, height=4, listvariable=conOFlstNE, yscrollcommand=yscroll.set)\n",
    "lstNE.grid(row=0, column=0, rowspan=4, padx=(100,0), pady=5, sticky=E)\n",
    "conOFlstNE.set(tuple(statesList))\n",
    "yscroll[\"command\"] = lstNE.yview\n",
    "window.mainloop()"
   ]
  },
  {
   "cell_type": "code",
   "execution_count": 23,
   "metadata": {},
   "outputs": [],
   "source": [
    "# 8.3 Example 1\n",
    "from tkinter import *\n",
    "\n",
    "def findLargest():\n",
    "    L = []\n",
    "    L.append(eval(conOFentNum1.get()))\n",
    "    L.append(eval(conOFentNum2.get()))\n",
    "    L.append(eval(conOFentNum3.get()))\n",
    "    conOFentLargest.set(max(L))\n",
    "\n",
    "window = Tk()\n",
    "window.title(\"Largest Number\")\n",
    "Label(window, text=\"First number: \").grid(row=0, column=0, pady=5, sticky=E)\n",
    "conOFentNum1 = StringVar()\n",
    "ententNum1 = Entry(window, width=8, textvariable=conOFentNum1)\n",
    "ententNum1.grid(row=0, column=1, sticky=W)\n",
    "Label(window, text=\"Second number: \").grid(row=1, column=0, pady=5, sticky=E)\n",
    "conOFentNum2 = StringVar()\n",
    "ententNum2 = Entry(window, width=8, textvariable=conOFentNum2)\n",
    "ententNum2.grid(row=1, column=1, sticky=W)\n",
    "Label(window, text=\"Third number: \").grid(row=2, column=0, pady=5, sticky=E)\n",
    "conOFentNum3 = StringVar()\n",
    "ententNum3 = Entry(window, width=8, textvariable=conOFentNum3)\n",
    "ententNum3.grid(row=2, column=1, sticky=W)\n",
    "btnFind = Button(window, text=\"Find the Largest Number\", command=findLargest)\n",
    "btnFind.grid(row=3, column=0, columnspan=2, padx=75)\n",
    "Label(window, text=\"Largest number: \").grid(row=4, column=0, sticky=E)\n",
    "conOFentLargest = StringVar()\n",
    "entLargest = Entry(window, state=\"readonly\", width=8, textvariable=conOFentLargest)\n",
    "entLargest.grid(row=4, column=1, pady=5, sticky=W)\n",
    "window.mainloop()"
   ]
  },
  {
   "cell_type": "code",
   "execution_count": 22,
   "metadata": {},
   "outputs": [
    {
     "name": "stderr",
     "output_type": "stream",
     "text": [
      "Exception in Tkinter callback\n",
      "Traceback (most recent call last):\n",
      "  File \"d:\\ancode\\lib\\tkinter\\__init__.py\", line 1892, in __call__\n",
      "    return self.func(*args)\n",
      "  File \"C:\\Users\\vlva8\\AppData\\Local\\Temp\\ipykernel_12320\\1862855458.py\", line 5, in displayBirds\n",
      "    infile = open(\"StateBirds.txt\", 'r')\n",
      "FileNotFoundError: [Errno 2] No such file or directory: 'StateBirds.txt'\n"
     ]
    }
   ],
   "source": [
    "# 8.3 Example 2\n",
    "from tkinter import *\n",
    "\n",
    "def displayBirds():\n",
    "    infile = open(\"StateBirds.txt\", 'r')\n",
    "    birdSet = {line.split(',')[1].rstrip() for line in infile}\n",
    "    infile.close()\n",
    "    conOFlstBirds.set(tuple(sorted(birdSet))) # sorted(birdSet) is a list\n",
    "    numBirds = len(birdSet)\n",
    "    conOFentNumBirds.set(numBirds)\n",
    "\n",
    "window = Tk()\n",
    "window.title(\"State Birds\")\n",
    "textForButton = \"Display the Different State Birds\"\n",
    "btnDisplay = Button(window, text=textForButton, command=displayBirds)\n",
    "btnDisplay.grid(row=0, column=0, columnspan=3, pady=5)\n",
    "yscroll = Scrollbar(window, orient=VERTICAL)\n",
    "yscroll.grid(row=1, column=1, rowspan=10, pady=(0,5), sticky=NS)\n",
    "conOFlstBirds = StringVar()\n",
    "lstBirds = Listbox(window, width=20, height=8, listvariable=conOFlstBirds, yscrollcommand=yscroll.set)\n",
    "lstBirds.grid(row=1, column=0, padx=(5,0), pady=(0,5), rowspan=10)\n",
    "yscroll[\"command\"] = lstBirds.yview\n",
    "textForLabel = \"Number of\\ndifferent\\nstate birds:\"\n",
    "Label(window, text=textForLabel).grid(row=1, column=2, padx=10, pady=5)\n",
    "conOFentNumBirds = StringVar()\n",
    "entNumBirds = Entry(window, width=2, state=\"readonly\", textvariable=conOFentNumBirds)\n",
    "entNumBirds.grid(row=2, column=2)\n",
    "window.mainloop()"
   ]
  },
  {
   "cell_type": "code",
   "execution_count": 8,
   "metadata": {},
   "outputs": [
    {
     "data": {
      "text/plain": [
       "<__main__.StateBirds at 0x24f21e90610>"
      ]
     },
     "execution_count": 8,
     "metadata": {},
     "output_type": "execute_result"
    }
   ],
   "source": [
    "# 8.3 Example 3: object-oriented version of Example 2\n",
    "from tkinter import *\n",
    "\n",
    "class StateBirds:\n",
    "    def __init__(self):\n",
    "        window = Tk()\n",
    "        window.title(\"State Birds\")\n",
    "        textForButton = \"Display the Different State Birds\"\n",
    "        btnDisplay = Button(window, text=textForButton,\n",
    "        command=self.displayBirds)\n",
    "        btnDisplay.grid(row=0, column=0, columnspan=3, pady=5)\n",
    "        yscroll = Scrollbar(window, orient=VERTICAL)\n",
    "        yscroll.grid(row=1, column=1, rowspan=10, pady=5, sticky=NS)\n",
    "        self._conOFlstBirds = StringVar()\n",
    "        self._lstBirds = Listbox(window, width=20, height=8,\n",
    "        listvariable=self._conOFlstBirds, yscrollcommand=yscroll.set)\n",
    "        self._lstBirds.grid(row=1, column=0, padx=(5,0), pady=(0,5), rowspan=10)\n",
    "        yscroll[\"command\"] = self._lstBirds.yview\n",
    "        textForLabel = \"Number of\\ndifferent\\nstate birds:\"\n",
    "        Label(window, text=textForLabel).grid(row=1, column=2, padx=10, pady=5)\n",
    "        self._conOFentNumBirds = StringVar()\n",
    "        entNumBirds = Entry(window, width=2, state=\"readonly\",\n",
    "        textvariable=self._conOFentNumBirds)\n",
    "        entNumBirds.grid(row=2, column=2)\n",
    "        window.mainloop()\n",
    "\n",
    "    def displayBirds(self):\n",
    "        infile = open(\"StateBirds.txt\", 'r')\n",
    "        birdSet = {line.split(',')[1].rstrip() for line in infile}\n",
    "        self._conOFlstBirds.set(tuple(sorted(birdSet)))\n",
    "        numBirds = len(birdSet)\n",
    "        self._conOFentNumBirds.set(numBirds)\n",
    "        \n",
    "StateBirds()"
   ]
  },
  {
   "cell_type": "code",
   "execution_count": null,
   "metadata": {},
   "outputs": [],
   "source": []
  }
 ],
 "metadata": {
  "kernelspec": {
   "display_name": "Python 3 (ipykernel)",
   "language": "python",
   "name": "python3"
  },
  "language_info": {
   "codemirror_mode": {
    "name": "ipython",
    "version": 3
   },
   "file_extension": ".py",
   "mimetype": "text/x-python",
   "name": "python",
   "nbconvert_exporter": "python",
   "pygments_lexer": "ipython3",
   "version": "3.9.13"
  }
 },
 "nbformat": 4,
 "nbformat_minor": 4
}
