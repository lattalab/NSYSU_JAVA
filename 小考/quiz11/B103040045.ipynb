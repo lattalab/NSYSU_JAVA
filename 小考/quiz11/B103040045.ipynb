{
 "cells": [
  {
   "cell_type": "code",
   "execution_count": 5,
   "id": "72fecdf8",
   "metadata": {},
   "outputs": [],
   "source": [
    "import pandas as pd\n",
    "import numpy as np\n",
    "import matplotlib.pyplot as plt\n",
    "%matplotlib inline\n",
    "from sklearn import preprocessing\n",
    "import random"
   ]
  },
  {
   "cell_type": "code",
   "execution_count": 86,
   "id": "09927957",
   "metadata": {},
   "outputs": [
    {
     "name": "stdout",
     "output_type": "stream",
     "text": [
      "df: 891\n",
      "train_df: 712\n",
      "test_df: 178\n"
     ]
    }
   ],
   "source": [
    "#第一部分\n",
    "\n",
    "#考試填空部分ーーーーーーーーーーーーーーーーーーーーーーーーーーーーーーーーーーーーーーーーーーーーーーーーーー\n",
    "df = pd.read_csv(\"titanic.csv\")\n",
    "length = len(df)\n",
    "train_len = int(length*0.8)\n",
    "test_len = int(length*0.2)\n",
    "train_df = pd.DataFrame({i:df.loc[random.randint(0,length-1)] for i in range(train_len)}).T\n",
    "test_df = pd.DataFrame({i:df.loc[random.randint(0,length-1)] for i in range(test_len)}).T\n",
    "\n",
    "#考試填空部分ーーーーーーーーーーーーーーーーーーーーーーーーーーーーーーーーーーーーーーーーーーーーーーーーーー\n",
    "\n",
    "print('df:',len(df))\n",
    "print('train_df:',len(train_df))\n",
    "print('test_df:',len(test_df))"
   ]
  },
  {
   "cell_type": "code",
   "execution_count": 85,
   "id": "f01cf231",
   "metadata": {},
   "outputs": [],
   "source": [
    "def PreprocessData(raw_df):\n",
    "    \n",
    "    #第二部分\n",
    "    #考試填空部分ーーーーーーーーーーーーーーーーーーーーーーーーーーーーーーーーーーーーーーーーーーーーーーーーーーー\n",
    "    raw_df= raw_df.drop(columns =['PassengerId', 'Name', 'Ticket', 'Cabin']) # drop\n",
    "    # fillna\n",
    "    raw_df['Age'].fillna(train_df['Age'].mean(),inplace=True)\n",
    "    raw_df['Fare'].fillna(train_df['Age'].mean(),inplace=True)\n",
    "    # female = 0, male = 1\n",
    "    raw_df['Sex']=raw_df['Sex'].replace('female',0)\n",
    "    raw_df['Sex']=raw_df['Sex'].replace('male',1)\n",
    "    # one hot encoding\n",
    "    raw_df['Embarked_C'] = False\n",
    "    raw_df['Embarked_Q'] = False\n",
    "    raw_df['Embarked_S'] = False\n",
    "    lc =list(raw_df['Embarked'][raw_df['Embarked'] == 'C'].index)\n",
    "    lq =list(raw_df['Embarked'][raw_df['Embarked'] == 'Q'].index)\n",
    "    ls =list(raw_df['Embarked'][raw_df['Embarked'] == 'S'].index)\n",
    "    for i in lc:\n",
    "        raw_df.at[i, 'Embarked_C'] = True\n",
    "    for i in lq:\n",
    "        raw_df.at[i, 'Embarked_Q'] = True\n",
    "    for i in ls:\n",
    "        raw_df.at[i, 'Embarked_S'] = True\n",
    "    \n",
    "    raw_df = raw_df.drop(columns = 'Embarked') # drop\n",
    "    \n",
    "    x_OneHot_df = raw_df.copy()\n",
    "    \n",
    "    #考試填空部分ーーーーーーーーーーーーーーーーーーーーーーーーーーーーーーーーーーーーーーーーーーーーーーーーーーー    \n",
    "\n",
    "    ndarray = x_OneHot_df.values\n",
    "    Features = ndarray[:,1:].astype(np.int_)\n",
    "    Label = ndarray[:,0].astype(np.int_)\n",
    "    print('ndarray ',ndarray.shape)\n",
    "    print('Features ',Features.shape)\n",
    "    print('Label ',Label.shape)\n",
    "    minmax_scale = preprocessing.MinMaxScaler(feature_range=(0, 1))\n",
    "    scaledFeatures=minmax_scale.fit_transform(Features).astype(np.int_)\n",
    "    print(x_OneHot_df.head(2))\n",
    "    print(\"ーーーーーーーーーーーーーーーーーーーーーーーーーーーーーーーーーーーーーーーーーーーーーーーーーーーーーーーーーーー\")\n",
    "    return scaledFeatures,Label"
   ]
  },
  {
   "cell_type": "code",
   "execution_count": 87,
   "id": "b62d5192",
   "metadata": {},
   "outputs": [
    {
     "name": "stdout",
     "output_type": "stream",
     "text": [
      "train_df\n",
      "ndarray  (712, 10)\n",
      "Features  (712, 9)\n",
      "Label  (712,)\n",
      "  Survived Pclass  Sex        Age SibSp Parch    Fare  Embarked_C  Embarked_Q  \\\n",
      "0        1      3    1  29.265204     0     0  7.7500       False        True   \n",
      "1        0      3    1  29.265204     0     0  7.7375       False        True   \n",
      "\n",
      "   Embarked_S  \n",
      "0       False  \n",
      "1       False  \n",
      "ーーーーーーーーーーーーーーーーーーーーーーーーーーーーーーーーーーーーーーーーーーーーーーーーーーーーーーーーーーー\n",
      "test_df\n",
      "ndarray  (178, 10)\n",
      "Features  (178, 9)\n",
      "Label  (178,)\n",
      "  Survived Pclass  Sex   Age SibSp Parch     Fare  Embarked_C  Embarked_Q  \\\n",
      "0        0      3    0  18.0     2     0  18.0000       False       False   \n",
      "1        0      3    1  28.0     0     0   7.8958       False       False   \n",
      "\n",
      "   Embarked_S  \n",
      "0        True  \n",
      "1        True  \n",
      "ーーーーーーーーーーーーーーーーーーーーーーーーーーーーーーーーーーーーーーーーーーーーーーーーーーーーーーーーーーー\n"
     ]
    }
   ],
   "source": [
    "print(\"train_df\")\n",
    "train_Features,train_Label=PreprocessData(train_df)\n",
    "print(\"test_df\")\n",
    "test_Features,test_Label=PreprocessData(test_df)"
   ]
  },
  {
   "cell_type": "code",
   "execution_count": 84,
   "id": "842453ac",
   "metadata": {},
   "outputs": [
    {
     "name": "stdout",
     "output_type": "stream",
     "text": [
      "    PassengerId Survived Pclass  \\\n",
      "0           383        0      3   \n",
      "1            57        1      2   \n",
      "2           822        1      3   \n",
      "3           854        1      1   \n",
      "4           169        0      1   \n",
      "..          ...      ...    ...   \n",
      "707         887        0      2   \n",
      "708         882        0      3   \n",
      "709          79        1      2   \n",
      "710         557        1      1   \n",
      "711         241        0      3   \n",
      "\n",
      "                                                  Name     Sex   Age SibSp  \\\n",
      "0                                   Tikkanen, Mr. Juho    male  32.0     0   \n",
      "1                                    Rugg, Miss. Emily  female  21.0     0   \n",
      "2                                    Lulic, Mr. Nikola    male  27.0     0   \n",
      "3                            Lines, Miss. Mary Conover  female  16.0     0   \n",
      "4                                  Baumann, Mr. John D    male   NaN     0   \n",
      "..                                                 ...     ...   ...   ...   \n",
      "707                              Montvila, Rev. Juozas    male  27.0     0   \n",
      "708                                 Markun, Mr. Johann    male  33.0     0   \n",
      "709                      Caldwell, Master. Alden Gates    male  0.83     0   \n",
      "710  Duff Gordon, Lady. (Lucille Christiana Sutherl...  female  48.0     1   \n",
      "711                              Zabour, Miss. Thamine  female   NaN     1   \n",
      "\n",
      "    Parch             Ticket     Fare Cabin Embarked  \n",
      "0       0  STON/O 2. 3101293    7.925   NaN        S  \n",
      "1       0         C.A. 31026     10.5   NaN        S  \n",
      "2       0             315098   8.6625   NaN        S  \n",
      "3       1           PC 17592     39.4   D28        S  \n",
      "4       0           PC 17318   25.925   NaN        S  \n",
      "..    ...                ...      ...   ...      ...  \n",
      "707     0             211536     13.0   NaN        S  \n",
      "708     0             349257   7.8958   NaN        S  \n",
      "709     2             248738     29.0   NaN        S  \n",
      "710     0              11755     39.6   A16        C  \n",
      "711     0               2665  14.4542   NaN        C  \n",
      "\n",
      "[712 rows x 12 columns]\n"
     ]
    }
   ],
   "source": [
    "# test\n",
    "# train_df.drop(columns =['PassengerId', 'Name', 'Ticket', 'Cabin'])\n",
    "# print(train_df['Age'].fillna(train_df['Age'].mean()))\n",
    "# train_df['Sex'][train_df['Sex']=='female'] =1\n",
    "# # print(train_df['Embarked'])\n",
    "# train_df['Embarked_C'] = False\n",
    "# l =list(train_df['Embarked'][train_df['Embarked'] == 'C'].index)\n",
    "# for i in l:\n",
    "#     train_df.at[i, 'Embarked_C'] = True\n",
    "\n",
    "# print(train_df['Embarked_C'][train_df['Embarked_C'] == True].index)\n",
    "# print(train_df['Embarked_C'][train_df['Embarked_C'] == False].index)\n"
   ]
  },
  {
   "cell_type": "code",
   "execution_count": null,
   "id": "3321f676",
   "metadata": {},
   "outputs": [],
   "source": []
  }
 ],
 "metadata": {
  "kernelspec": {
   "display_name": "Python 3 (ipykernel)",
   "language": "python",
   "name": "python3"
  },
  "language_info": {
   "codemirror_mode": {
    "name": "ipython",
    "version": 3
   },
   "file_extension": ".py",
   "mimetype": "text/x-python",
   "name": "python",
   "nbconvert_exporter": "python",
   "pygments_lexer": "ipython3",
   "version": "3.9.13"
  }
 },
 "nbformat": 4,
 "nbformat_minor": 5
}
