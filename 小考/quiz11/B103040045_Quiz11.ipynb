{
 "cells": [
  {
   "cell_type": "code",
   "execution_count": 2,
   "id": "72fecdf8",
   "metadata": {},
   "outputs": [],
   "source": [
    "import pandas as pd\n",
    "import numpy as np\n",
    "import matplotlib.pyplot as plt\n",
    "%matplotlib inline\n",
    "from sklearn import preprocessing"
   ]
  },
  {
   "cell_type": "code",
   "execution_count": 61,
   "id": "09927957",
   "metadata": {},
   "outputs": [
    {
     "name": "stdout",
     "output_type": "stream",
     "text": [
      "df: 891\n",
      "train_df: 712\n",
      "test_df: 179\n"
     ]
    }
   ],
   "source": [
    "#第一部分\n",
    "\n",
    "#考試填空部分ーーーーーーーーーーーーーーーーーーーーーーーーーーーーーーーーーーーーーーーーーーーーーーーーーー\n",
    "df = pd.read_csv(\"titanic.csv\")\n",
    "length = len(df)\n",
    "# 打亂dataframe\n",
    "sequence = np.random.permutation(length)\n",
    "# 按比例分配\n",
    "train_len = int(length*0.8)\n",
    "test_len = int(length*0.2)\n",
    "train_idx = sequence[:train_len]\n",
    "test_idx = sequence[train_len:]\n",
    "\n",
    "# get train_df and test_df\n",
    "train_df, test_df = df.loc[train_idx] ,df.loc[test_idx]\n",
    "#考試填空部分ーーーーーーーーーーーーーーーーーーーーーーーーーーーーーーーーーーーーーーーーーーーーーーーーーー\n",
    "\n",
    "print('df:',len(df))\n",
    "print('train_df:',len(train_df))\n",
    "print('test_df:',len(test_df))"
   ]
  },
  {
   "cell_type": "code",
   "execution_count": null,
   "id": "f01cf231",
   "metadata": {},
   "outputs": [],
   "source": [
    "def PreprocessData(raw_df):\n",
    "    \n",
    "    #第二部分\n",
    "    #考試填空部分ーーーーーーーーーーーーーーーーーーーーーーーーーーーーーーーーーーーーーーーーーーーーーーーーーーー\n",
    "    # 1. drop\n",
    "    raw_df= raw_df.drop(columns =['PassengerId', 'Name', 'Ticket', 'Cabin']) \n",
    "    # 2. fillna\n",
    "    raw_df['Age'].fillna(raw_df['Age'].mean(),inplace=True)\n",
    "    raw_df['Fare'].fillna(raw_df['Age'].mean(),inplace=True)\n",
    "    # 3. female = 0, male = 1\n",
    "    raw_df['Sex'] = raw_df['Sex'].map({'female': 0, 'male': 1})\n",
    "    # 4. 將'Embarked' column 改為 One Hot Encoding 格式\n",
    "    embarks = pd.get_dummies(raw_df['Embarked'],prefix='Embarked')\n",
    "    raw_df = raw_df.join(embarks)\n",
    "    raw_df = raw_df.drop(columns ='Embarked') \n",
    "    \n",
    "    x_OneHot_df = raw_df.copy()\n",
    "    \n",
    "    #考試填空部分ーーーーーーーーーーーーーーーーーーーーーーーーーーーーーーーーーーーーーーーーーーーーーーーーーーー    \n",
    "\n",
    "    ndarray = x_OneHot_df.values # convert to numpy array\n",
    "    # This line selects all rows and columns from index 1 onwards as the features, \n",
    "    # and converts the values to the integer data type.\n",
    "    Features = ndarray[:,1:].astype(np.int_)\n",
    "    # This line selects the first column as the label, \n",
    "    # and converts the values to the integer data type.\n",
    "    Label = ndarray[:,0].astype(np.int_)\n",
    "    print('ndarray ',ndarray.shape)\n",
    "    print('Features ',Features.shape)\n",
    "    print('Label ',Label.shape)\n",
    "    #　This line creates a MinMaxScaler object with a feature range between 0 and 1.\n",
    "    minmax_scale = preprocessing.MinMaxScaler(feature_range=(0, 1))\n",
    "    # This line scales the features using the MinMaxScaler ,\n",
    "    # and converts the scaled values to the integer data type\n",
    "    scaledFeatures=minmax_scale.fit_transform(Features).astype(np.int_)\n",
    "    print(x_OneHot_df.head(2))\n",
    "    print(\"ーーーーーーーーーーーーーーーーーーーーーーーーーーーーーーーーーーーーーーーーーーーーーーーーーーーーーーーーーーー\")\n",
    "    return scaledFeatures,Label"
   ]
  },
  {
   "cell_type": "code",
   "execution_count": 64,
   "id": "b62d5192",
   "metadata": {},
   "outputs": [
    {
     "name": "stdout",
     "output_type": "stream",
     "text": [
      "train_df\n",
      "ndarray  (712, 10)\n",
      "Features  (712, 9)\n",
      "Label  (712,)\n",
      "     Survived  Pclass  Sex        Age  SibSp  Parch   Fare  Embarked_C  \\\n",
      "597         0       3    1  49.000000      0      0   0.00           0   \n",
      "846         0       3    1  29.747065      8      2  69.55           0   \n",
      "\n",
      "     Embarked_Q  Embarked_S  \n",
      "597           0           1  \n",
      "846           0           1  \n",
      "ーーーーーーーーーーーーーーーーーーーーーーーーーーーーーーーーーーーーーーーーーーーーーーーーーーーーーーーーーーー\n",
      "test_df\n",
      "ndarray  (179, 10)\n",
      "Features  (179, 9)\n",
      "Label  (179,)\n",
      "     Survived  Pclass  Sex   Age  SibSp  Parch     Fare  Embarked_C  \\\n",
      "164         0       3    1   1.0      4      1  39.6875           0   \n",
      "506         1       2    0  33.0      0      2  26.0000           0   \n",
      "\n",
      "     Embarked_Q  Embarked_S  \n",
      "164           0           1  \n",
      "506           0           1  \n",
      "ーーーーーーーーーーーーーーーーーーーーーーーーーーーーーーーーーーーーーーーーーーーーーーーーーーーーーーーーーーー\n"
     ]
    }
   ],
   "source": [
    "print(\"train_df\")\n",
    "train_Features,train_Label=PreprocessData(train_df)\n",
    "print(\"test_df\")\n",
    "test_Features,test_Label=PreprocessData(test_df)"
   ]
  }
 ],
 "metadata": {
  "kernelspec": {
   "display_name": "Python 3 (ipykernel)",
   "language": "python",
   "name": "python3"
  },
  "language_info": {
   "codemirror_mode": {
    "name": "ipython",
    "version": 3
   },
   "file_extension": ".py",
   "mimetype": "text/x-python",
   "name": "python",
   "nbconvert_exporter": "python",
   "pygments_lexer": "ipython3",
   "version": "3.9.13"
  }
 },
 "nbformat": 4,
 "nbformat_minor": 5
}
