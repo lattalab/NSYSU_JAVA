{
 "cells": [
  {
   "cell_type": "code",
   "execution_count": 2,
   "metadata": {},
   "outputs": [],
   "source": [
    "import pandas as pd\n",
    "import tkinter as tk\n",
    "from tkinter import filedialog\n",
    "\n",
    "#初始化window\n",
    "window = tk.Tk()\n",
    "window.title(\"example\")\n",
    "window.geometry(\"600x300\")\n",
    "\n",
    "\n",
    "def open_file():\n",
    "    # 創建變量\n",
    "    file_path = tk.StringVar()\n",
    "\n",
    "    #刪除Text元件的文字\n",
    "    text.delete(1.0, tk.END)\n",
    "\n",
    "    # 打開對話框，選擇 CSV 文件\n",
    "    file_path.set(filedialog.askopenfilename(filetypes=[(\"CSV Files\", \"*.csv\")]))\n",
    "    if file_path.get() != \"\":\n",
    "        df = pd.read_csv(file_path.get())\n",
    "        text.insert(tk.END, df.tail(10))\n",
    "\n",
    "#創建元件\n",
    "button1 = tk.Button(window, text=\"打開CSV文件\", command=open_file)\n",
    "text = tk.Text(window)\n",
    "\n",
    "#調整元件位置\n",
    "button1.pack(pady=10)\n",
    "text.pack(padx=10, pady=10, fill=\"both\", expand=True)\n",
    "\n",
    "# 運行應用程序\n",
    "window.mainloop()"
   ]
  },
  {
   "cell_type": "code",
   "execution_count": null,
   "metadata": {},
   "outputs": [],
   "source": []
  }
 ],
 "metadata": {
  "kernelspec": {
   "display_name": "111python",
   "language": "python",
   "name": "python3"
  },
  "language_info": {
   "codemirror_mode": {
    "name": "ipython",
    "version": 3
   },
   "file_extension": ".py",
   "mimetype": "text/x-python",
   "name": "python",
   "nbconvert_exporter": "python",
   "pygments_lexer": "ipython3",
   "version": "3.9.13"
  },
  "orig_nbformat": 4
 },
 "nbformat": 4,
 "nbformat_minor": 2
}
