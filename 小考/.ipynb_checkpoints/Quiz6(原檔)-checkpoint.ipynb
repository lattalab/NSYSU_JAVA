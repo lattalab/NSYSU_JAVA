{
 "cells": [
  {
   "cell_type": "code",
   "execution_count": null,
   "id": "920d4fe8",
   "metadata": {},
   "outputs": [],
   "source": [
    "import numpy as np\n",
    "import pandas as pd\n",
    "import matplotlib.pyplot as plt\n",
    "import statsmodels.api as sm\n",
    "from statsmodels.graphics.tsaplots import plot_predict\n",
    "import random\n",
    "import seaborn as sns\n",
    "\n",
    "#-----------------------------------------------------考試填空部分------------------------------------------------------\n",
    "\n",
    "\n",
    "\n",
    "\n",
    "#-----------------------------------------------------考試填空部分------------------------------------------------------\n",
    "\n",
    "# 以下部分已完成無需更動\n",
    "# 3,2,1 ARIMA Model\n",
    "model1 = sm.tsa.ARIMA(df.value, order=(3,2,1))\n",
    "model_fit1 = model1.fit()\n",
    "\n",
    "model2 = sm.tsa.ARIMA(transform_dataDF.value, order=(3,2,1))\n",
    "model_fit2 = model2.fit()\n",
    "\n",
    "fig, ax = plt.subplots()\n",
    "ax = df.loc[(transform_dataDF.shape[0]-100):transform_dataDF.shape[0]].plot(ax=ax)\n",
    "plot_predict(model_fit1, transform_dataDF.shape[0]-100, transform_dataDF.shape[0], ax=ax)\n",
    "plt.title('Before Ouliers')\n",
    "plt.show()\n",
    "\n",
    "fig2, ax2 = plt.subplots()\n",
    "ax2 = transform_dataDF.loc[(transform_dataDF.shape[0]-100):transform_dataDF.shape[0]].plot(ax=ax2)\n",
    "plot_predict(model_fit2, transform_dataDF.shape[0]-100, transform_dataDF.shape[0], ax=ax2)\n",
    "plt.title('After Ouliers')\n",
    "plt.show()\n",
    "\n",
    "plt.figure(figsize=(2,5))\n",
    "plt.boxplot(df['value'],showmeans=True)\n",
    "plt.title('Before Ouliers')\n",
    "plt.show()\n",
    "\n",
    "plt.figure(figsize=(2,5))\n",
    "plt.boxplot(transform_dataDF['value'],showmeans=True)\n",
    "plt.title('After Ouliers')\n",
    "plt.show()"
   ]
  },
  {
   "cell_type": "code",
   "execution_count": null,
   "id": "774285d2",
   "metadata": {},
   "outputs": [],
   "source": []
  }
 ],
 "metadata": {
  "kernelspec": {
   "display_name": "Python 3 (ipykernel)",
   "language": "python",
   "name": "python3"
  },
  "language_info": {
   "codemirror_mode": {
    "name": "ipython",
    "version": 3
   },
   "file_extension": ".py",
   "mimetype": "text/x-python",
   "name": "python",
   "nbconvert_exporter": "python",
   "pygments_lexer": "ipython3",
   "version": "3.9.13"
  }
 },
 "nbformat": 4,
 "nbformat_minor": 5
}
