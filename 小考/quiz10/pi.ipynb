{
 "cells": [
  {
   "cell_type": "code",
   "execution_count": 1,
   "id": "24f53248",
   "metadata": {},
   "outputs": [
    {
     "name": "stdout",
     "output_type": "stream",
     "text": [
      "{2: 3.08}\n",
      "{2: 3.08, 3: 3.2}\n",
      "{2: 3.08, 3: 3.2, 4: 3.146}\n",
      "{2: 3.08, 3: 3.2, 4: 3.146, 5: 3.1384}\n",
      "{2: 3.08, 3: 3.2, 4: 3.146, 5: 3.1384, 6: 3.14224}\n",
      "{2: 3.08, 3: 3.2, 4: 3.146, 5: 3.1384, 6: 3.14224, 7: 3.1414676}\n",
      "{2: 3.08, 3: 3.2, 4: 3.146, 5: 3.1384, 6: 3.14224, 7: 3.1414676, 8: 3.14168888}\n"
     ]
    }
   ],
   "source": [
    "import time\n",
    "import numpy as np\n",
    "\n",
    "MIN = 8 \n",
    "\n",
    "def calPI(s):\n",
    "    ndata = int(10 ** MIN) if s>MIN else int(10 ** s)\n",
    "    forLoop = int(10 ** (s-MIN)) if s>MIN else 1\n",
    "    total = 0.0 \n",
    "    for _ in range(forLoop):\n",
    "        x = np.random.uniform(-1,1,ndata)\n",
    "        y = np.random.uniform(-1,1,ndata)\n",
    "        z = np.sqrt(x ** 2 + y ** 2)\n",
    "        #total += np.sum(np.where(z<=1, 1, 0))\n",
    "        total += (z<=1).sum()\n",
    "    pi=4*(total/ndata) if s<=MIN else 4*(total/(10 ** s)) \n",
    "    return pi\n",
    "\n",
    "def main():\n",
    "    np.random.seed(int(time.time())) # srand(time(NULL)) in C\n",
    "    dic={}\n",
    "    for i in range(2,9):\n",
    "        dic[i]=calPI(i)\n",
    "        print(dic)\n",
    "\n",
    "if __name__ == '__main__':\n",
    "    main()"
   ]
  },
  {
   "cell_type": "code",
   "execution_count": null,
   "id": "c8ffc9c4",
   "metadata": {},
   "outputs": [],
   "source": []
  }
 ],
 "metadata": {
  "kernelspec": {
   "display_name": "Python 3 (ipykernel)",
   "language": "python",
   "name": "python3"
  },
  "language_info": {
   "codemirror_mode": {
    "name": "ipython",
    "version": 3
   },
   "file_extension": ".py",
   "mimetype": "text/x-python",
   "name": "python",
   "nbconvert_exporter": "python",
   "pygments_lexer": "ipython3",
   "version": "3.9.13"
  }
 },
 "nbformat": 4,
 "nbformat_minor": 5
}
