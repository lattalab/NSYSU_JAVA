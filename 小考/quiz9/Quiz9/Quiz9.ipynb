{
 "cells": [
  {
   "cell_type": "code",
   "execution_count": null,
   "id": "7a53c23b",
   "metadata": {},
   "outputs": [],
   "source": [
    "import pandas as pd\n",
    "import numpy as np\n",
    "import matplotlib.pyplot as plt\n",
    "from statsmodels.tsa.arima.model import ARIMA"
   ]
  },
  {
   "cell_type": "code",
   "execution_count": null,
   "id": "9f1cee70",
   "metadata": {},
   "outputs": [],
   "source": [
    "#---------------------------------------------考試填寫部分(第一小題)------------------------------------------------\n",
    "\n",
    "\n",
    "\n",
    "\n",
    "\n",
    "\n",
    "\n",
    "\n",
    "\n",
    "#--------------------------------------------------------------------------------------------------------\n",
    "# 設置Thailand Monthly Average Cases圖\n",
    "plt.plot(monthly_avg_case)\n",
    "plt.title('Thailand Monthly Average Cases')\n",
    "plt.xlabel('Month')\n",
    "plt.ylabel('Average Cases')\n",
    "plt.show()\n",
    "\n",
    "\n",
    "# 設置Thailand Monthly Average Deaths圖\n",
    "plt.plot(monthly_avg_death)\n",
    "plt.title('Thailand Monthly Average Deaths')\n",
    "plt.xlabel('Month')\n",
    "plt.ylabel('Average Deaths')\n",
    "plt.show()\n"
   ]
  },
  {
   "cell_type": "code",
   "execution_count": null,
   "id": "2fbf7120",
   "metadata": {},
   "outputs": [],
   "source": [
    "#------------------------------------考試填寫部分(第二小題)---------------------------------------------\n",
    "\n",
    "\n",
    "\n",
    "\n",
    "\n",
    "\n",
    "\n",
    "\n",
    "\n",
    "#-----------------------------------------------------------------------------------------------\n",
    "# 建立ARIMA模型，並用訓練集擬合模型\n",
    "model_case = ARIMA(train['new_cases'], order=(25, 1, 1))\n",
    "model_death = ARIMA(train['new_deaths'], order=(25, 1, 1))\n",
    "results_case = model_case.fit()\n",
    "results_death = model_death.fit()\n",
    "\n",
    "# 預測資料\n",
    "case_pred = results_case.predict(start='2023-05-01', end='2024-01-01', typ='levels')\n",
    "death_pred = results_death.predict(start='2023-05-01', end='2024-01-01', typ='levels')\n",
    "\n",
    "\n",
    "# 繪製預測結果\n",
    "plt.plot(case_pred, label='Predicted')\n",
    "plt.title('Daily New Cases')\n",
    "plt.show()\n",
    "\n",
    "plt.plot(death_pred, label='Predicted')\n",
    "plt.title('Daily New Deaths')\n",
    "plt.show()"
   ]
  }
 ],
 "metadata": {
  "kernelspec": {
   "display_name": "Python 3 (ipykernel)",
   "language": "python",
   "name": "python3"
  },
  "language_info": {
   "codemirror_mode": {
    "name": "ipython",
    "version": 3
   },
   "file_extension": ".py",
   "mimetype": "text/x-python",
   "name": "python",
   "nbconvert_exporter": "python",
   "pygments_lexer": "ipython3",
   "version": "3.10.9"
  }
 },
 "nbformat": 4,
 "nbformat_minor": 5
}
