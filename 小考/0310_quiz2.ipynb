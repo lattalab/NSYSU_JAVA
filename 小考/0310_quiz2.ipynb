{
 "cells": [
  {
   "cell_type": "code",
   "execution_count": 17,
   "id": "d0a05edc",
   "metadata": {},
   "outputs": [
    {
     "name": "stdout",
     "output_type": "stream",
     "text": [
      "n項函數: 20\n",
      "m目標函數: 8\n",
      "\n",
      "List(1:20)所有質數: [2, 3, 5, 7, 11, 13, 17, 19]\n",
      "輸出: [(2, 3), (2, 5), (2, 7), (3, 5), (3, 7), (5, 7), (5, 11), (7, 11), (7, 13), (11, 13), (11, 17), (13, 17), (13, 19), (17, 19)]， 共14對。\n"
     ]
    }
   ],
   "source": [
    "n = int(input(\"n項函數: \"))\n",
    "m = int(input(\"m目標函數: \"))\n",
    "print()\n",
    "\n",
    "def isprime(n):  #find the prime number in(1~n)，and create a list\n",
    "    prime = []\n",
    "    for i in range(2,n+1):\n",
    "        flag = bool(1)\n",
    "        for j in range(2,i):\n",
    "            if ((i%j) == 0):\n",
    "                flag = bool(0)\n",
    "                break\n",
    "        if flag:\n",
    "            prime.append(int(i))\n",
    "            \n",
    "    return prime\n",
    "    \n",
    "def pair(m,L):\n",
    "     #m 目標函數\n",
    "     #L :a list\n",
    "    pairs = []\n",
    "    for i in range(len(L)):\n",
    "        p = L[i]\n",
    "        for j in range(i+1,len(L)):\n",
    "            q = L[j]\n",
    "            if (q-p)<m:\n",
    "                t = p,q\n",
    "                pairs.append(t)\n",
    "    \n",
    "    return pairs\n",
    "    \n",
    "    \n",
    "Prime = isprime(n)\n",
    "print(\"List(1:{:d})所有質數: {}\".format(n,Prime))\n",
    "Pairs = pair(m,Prime)\n",
    "print(\"輸出: {}， 共{:d}對。\".format(Pairs,len(Pairs)))"
   ]
  },
  {
   "cell_type": "code",
   "execution_count": null,
   "id": "2eef2527",
   "metadata": {},
   "outputs": [],
   "source": []
  },
  {
   "cell_type": "code",
   "execution_count": null,
   "id": "012ec679",
   "metadata": {},
   "outputs": [],
   "source": []
  }
 ],
 "metadata": {
  "kernelspec": {
   "display_name": "Python 3 (ipykernel)",
   "language": "python",
   "name": "python3"
  },
  "language_info": {
   "codemirror_mode": {
    "name": "ipython",
    "version": 3
   },
   "file_extension": ".py",
   "mimetype": "text/x-python",
   "name": "python",
   "nbconvert_exporter": "python",
   "pygments_lexer": "ipython3",
   "version": "3.9.13"
  }
 },
 "nbformat": 4,
 "nbformat_minor": 5
}
