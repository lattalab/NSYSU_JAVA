{
 "cells": [
  {
   "cell_type": "code",
   "execution_count": 4,
   "id": "46747904",
   "metadata": {},
   "outputs": [
    {
     "name": "stdout",
     "output_type": "stream",
     "text": [
      "0 : function main\n",
      "7 : function trival\n",
      "7 : function main\n"
     ]
    }
   ],
   "source": [
    "#today : section4-1~ 4-3 、2-4、3-1\n",
    "\n",
    "#global variable\n",
    "x = 0 # declare a global variable\n",
    "\n",
    "def main():\n",
    "    #x = 8  #if it exists,use local variable\n",
    "    print(str(x) + \" : function main\")\n",
    "    trival()\n",
    "    print(str(x) + \" : function main\")\n",
    "    \n",
    "def trival():\n",
    "    global x #want to change value in the type of global variable\n",
    "    x += 7\n",
    "    print(str(x) + \" : function trival\")\n",
    "    \n",
    "main() #call function"
   ]
  },
  {
   "cell_type": "code",
   "execution_count": 11,
   "id": "854cdbcd",
   "metadata": {},
   "outputs": [
    {
     "name": "stdout",
     "output_type": "stream",
     "text": [
      "Requirement already satisfied: import-ipynb in d:\\ancode\\lib\\site-packages (0.1.4)\n",
      "Requirement already satisfied: IPython in d:\\ancode\\lib\\site-packages (from import-ipynb) (7.31.1)\n",
      "Requirement already satisfied: nbformat in d:\\ancode\\lib\\site-packages (from import-ipynb) (5.5.0)\n",
      "Requirement already satisfied: setuptools>=18.5 in d:\\ancode\\lib\\site-packages (from IPython->import-ipynb) (63.4.1)\n",
      "Requirement already satisfied: matplotlib-inline in d:\\ancode\\lib\\site-packages (from IPython->import-ipynb) (0.1.6)\n",
      "Requirement already satisfied: jedi>=0.16 in d:\\ancode\\lib\\site-packages (from IPython->import-ipynb) (0.18.1)\n",
      "Requirement already satisfied: decorator in d:\\ancode\\lib\\site-packages (from IPython->import-ipynb) (5.1.1)\n",
      "Requirement already satisfied: pickleshare in d:\\ancode\\lib\\site-packages (from IPython->import-ipynb) (0.7.5)\n",
      "Requirement already satisfied: traitlets>=4.2 in d:\\ancode\\lib\\site-packages (from IPython->import-ipynb) (5.1.1)\n",
      "Requirement already satisfied: colorama in d:\\ancode\\lib\\site-packages (from IPython->import-ipynb) (0.4.5)\n",
      "Requirement already satisfied: prompt-toolkit!=3.0.0,!=3.0.1,<3.1.0,>=2.0.0 in d:\\ancode\\lib\\site-packages (from IPython->import-ipynb) (3.0.20)\n",
      "Requirement already satisfied: backcall in d:\\ancode\\lib\\site-packages (from IPython->import-ipynb) (0.2.0)\n",
      "Requirement already satisfied: pygments in d:\\ancode\\lib\\site-packages (from IPython->import-ipynb) (2.11.2)\n",
      "Requirement already satisfied: jsonschema>=2.6 in d:\\ancode\\lib\\site-packages (from nbformat->import-ipynb) (4.16.0)\n",
      "Requirement already satisfied: jupyter_core in d:\\ancode\\lib\\site-packages (from nbformat->import-ipynb) (4.11.1)\n",
      "Requirement already satisfied: fastjsonschema in d:\\ancode\\lib\\site-packages (from nbformat->import-ipynb) (2.16.2)\n",
      "Requirement already satisfied: parso<0.9.0,>=0.8.0 in d:\\ancode\\lib\\site-packages (from jedi>=0.16->IPython->import-ipynb) (0.8.3)\n",
      "Requirement already satisfied: attrs>=17.4.0 in d:\\ancode\\lib\\site-packages (from jsonschema>=2.6->nbformat->import-ipynb) (21.4.0)\n",
      "Requirement already satisfied: pyrsistent!=0.17.0,!=0.17.1,!=0.17.2,>=0.14.0 in d:\\ancode\\lib\\site-packages (from jsonschema>=2.6->nbformat->import-ipynb) (0.18.0)\n",
      "Requirement already satisfied: wcwidth in d:\\ancode\\lib\\site-packages (from prompt-toolkit!=3.0.0,!=3.0.1,<3.1.0,>=2.0.0->IPython->import-ipynb) (0.2.5)\n",
      "Requirement already satisfied: pywin32>=1.0 in d:\\ancode\\lib\\site-packages (from jupyter_core->nbformat->import-ipynb) (302)\n"
     ]
    }
   ],
   "source": [
    "#import .ipynb\n",
    "!pip3 install import-ipynb\n"
   ]
  },
  {
   "cell_type": "code",
   "execution_count": 18,
   "id": "8c04628e",
   "metadata": {},
   "outputs": [
    {
     "name": "stdout",
     "output_type": "stream",
     "text": [
      "This message is from file_ipynb.\n"
     ]
    }
   ],
   "source": [
    "#import ipynb file\n",
    "\n",
    "#import import_ipynb\n",
    "import file\n",
    "file.sayhello()"
   ]
  },
  {
   "cell_type": "code",
   "execution_count": 19,
   "id": "a3b3ac19",
   "metadata": {},
   "outputs": [
    {
     "name": "stdout",
     "output_type": "stream",
     "text": [
      "[0, 1, 2, 3, 4, 5, 6, 7, 8, 9]\n"
     ]
    }
   ],
   "source": [
    "#python function can return multiple values\n",
    "\n",
    "#very important!!!!\n",
    "#list comprehension\n",
    "#newlist = [expression for item in iterable (if condition == True)]\n",
    "#common way:\n",
    "newlist = [x for x in range(10)]\n",
    "print(newlist)"
   ]
  },
  {
   "cell_type": "code",
   "execution_count": 20,
   "id": "4611f15f",
   "metadata": {},
   "outputs": [
    {
     "name": "stdout",
     "output_type": "stream",
     "text": [
      "['John Backus', 'James Gosling', 'Alan Kay', 'Dennis Ritchie']\n",
      "John Backus, James Gosling, Alan Kay, Dennis Ritchie\n"
     ]
    }
   ],
   "source": [
    "#lambda\n",
    "#key: 要用什麼東西做排序\n",
    "names = [\"Dennis Ritchie\", \"Alan Kay\", \"John Backus\", \"James Gosling\"]\n",
    "names.sort(key = lambda name : name.split()[-1])  #從list的字串切割，並取後面的名作排序\n",
    "print(names)\n",
    "nameString = \", \".join(names)\n",
    "print(nameString)"
   ]
  },
  {
   "cell_type": "code",
   "execution_count": 23,
   "id": "4b459e96",
   "metadata": {},
   "outputs": [
    {
     "name": "stdout",
     "output_type": "stream",
     "text": [
      "(5, 7, 6, 2)\n",
      "\n",
      "x = 5 , y = 10.\n",
      "x = 10 , y = 5.\n"
     ]
    }
   ],
   "source": [
    "#tuple 不能隨意改變，但list可以\n",
    "t = 5,7,6,2 # initialize a tuple\n",
    "print(t)\n",
    "\n",
    "print()\n",
    "x =5 ;y =10\n",
    "print(\"x = {} , y = {}.\".format(x,y))\n",
    "x,y = y,x #swap , an easy format to swap\n",
    "print(\"x = {} , y = {}.\".format(x,y))"
   ]
  },
  {
   "cell_type": "code",
   "execution_count": null,
   "id": "6a45f54c",
   "metadata": {},
   "outputs": [],
   "source": []
  }
 ],
 "metadata": {
  "kernelspec": {
   "display_name": "Python 3 (ipykernel)",
   "language": "python",
   "name": "python3"
  },
  "language_info": {
   "codemirror_mode": {
    "name": "ipython",
    "version": 3
   },
   "file_extension": ".py",
   "mimetype": "text/x-python",
   "name": "python",
   "nbconvert_exporter": "python",
   "pygments_lexer": "ipython3",
   "version": "3.9.13"
  }
 },
 "nbformat": 4,
 "nbformat_minor": 5
}
