{
 "cells": [
  {
   "cell_type": "code",
   "execution_count": 1,
   "metadata": {},
   "outputs": [],
   "source": [
    "# It is exercise for https://inventwithpython.com/pythongently/"
   ]
  },
  {
   "cell_type": "code",
   "execution_count": 2,
   "metadata": {},
   "outputs": [
    {
     "name": "stdout",
     "output_type": "stream",
     "text": [
      "Hello, world!\n",
      "What is your name?\n",
      "Hello, Alice\n"
     ]
    }
   ],
   "source": [
    "# Exercise 1\n",
    "\n",
    "# Print \"Hello, world!\" on the screen:\n",
    "print('Hello, world!')\n",
    "# Ask the user for their name:\n",
    "print('What is your name?')\n",
    "# Get the user's name from their keyboard input:\n",
    "name = input()\n",
    "# Greet the user by their name:\n",
    "print('Hello, ' + name)"
   ]
  },
  {
   "cell_type": "code",
   "execution_count": 4,
   "metadata": {},
   "outputs": [
    {
     "name": "stdout",
     "output_type": "stream",
     "text": [
      "-17.77777777777778\n",
      "82.22222222222223\n",
      "32.0\n",
      "212.0\n",
      "15.0\n",
      "42.00000000000001\n"
     ]
    }
   ],
   "source": [
    "# Exercise 2\n",
    "def convertToFahrenheit(degreesCelsius):\n",
    "    # Calculate and return the degrees Fahrenheit:\n",
    "    return degreesCelsius * (9 / 5) + 32\n",
    "def convertToCelsius(degreesFahrenheit):\n",
    "    # Calculate and return the degrees Celsius:\n",
    "    return (degreesFahrenheit - 32) * (5 / 9)\n",
    "\n",
    "print(convertToCelsius(0))\n",
    "print(convertToCelsius(180))\n",
    "print(convertToFahrenheit(0))\n",
    "print(convertToFahrenheit(100))\n",
    "print(convertToCelsius(convertToFahrenheit(15)))\n",
    "print(convertToCelsius(convertToFahrenheit(42)))\n",
    "\n",
    "# These Python assert statements stop the program if their condition is False\n",
    "# 代表True 可以正常執行\n",
    "assert convertToCelsius(0) == -17.77777777777778\n",
    "assert convertToCelsius(180) == 82.22222222222223\n",
    "assert convertToFahrenheit(0) == 32\n",
    "assert convertToFahrenheit(100) == 212\n",
    "assert convertToCelsius(convertToFahrenheit(15)) == 15\n",
    "# Rounding errors cause a slight discrepancy:\n",
    "assert convertToCelsius(convertToFahrenheit(42)) == 42.00000000000001"
   ]
  },
  {
   "cell_type": "code",
   "execution_count": 6,
   "metadata": {},
   "outputs": [],
   "source": [
    "#　Exercise 3\n",
    "def isOdd(number):\n",
    "    # Return whether number mod 2 is 1:\n",
    "    if type(number) != int:\n",
    "        return False\n",
    "    return number % 2 == 1\n",
    "def isEven(number):\n",
    "    # Return whether number mod 2 is 0:\n",
    "    if type(number) != int:\n",
    "        return False\n",
    "    return number % 2 == 0\n",
    "\n",
    "assert isOdd(42) == False\n",
    "assert isOdd(9999) == True\n",
    "assert isOdd(-10) == False\n",
    "assert isOdd(-11) == True\n",
    "assert isOdd(3.1415) == False\n",
    "assert isEven(42) == True\n",
    "assert isEven(9999) == False\n",
    "assert isEven(-10) == True\n",
    "assert isEven(-11) == False\n",
    "assert isEven(3.1415) == False"
   ]
  },
  {
   "cell_type": "code",
   "execution_count": 7,
   "metadata": {},
   "outputs": [],
   "source": [
    "# Exercise 4\n",
    "def area(length, width):\n",
    "    # Return the product of the length and width:\n",
    "    return length * width\n",
    "def perimeter(length, width):\n",
    "    # Return the sum of the length twice and the width twice:\n",
    "    return  length* 2 + width * 2\n",
    "def volume(length, width, height):\n",
    "    # Return the product of the length, width, and height:\n",
    "    return length * width * height\n",
    "def surfaceArea(length, width, height):\n",
    "    # Return the sum of the area of each of the six sides:\n",
    "    return ((length * width) + (length * height) + (width * height)) * 2\n",
    "\n",
    "assert area(10, 10) == 100\n",
    "assert area(0, 9999) == 0\n",
    "assert area(5, 8) == 40\n",
    "assert perimeter(10, 10) == 40\n",
    "assert perimeter(0, 9999) == 19998\n",
    "assert perimeter(5, 8) == 26\n",
    "assert volume(10, 10, 10) == 1000\n",
    "assert volume(9999, 0, 9999) == 0\n",
    "assert volume(5, 8, 10) == 400\n",
    "assert surfaceArea(10, 10, 10) == 600\n",
    "assert surfaceArea(9999, 0, 9999) == 199960002\n",
    "assert surfaceArea(5, 8, 10) == 340"
   ]
  },
  {
   "cell_type": "code",
   "execution_count": 8,
   "metadata": {},
   "outputs": [
    {
     "name": "stdout",
     "output_type": "stream",
     "text": [
      "1 2 Fizz 4 Buzz Fizz 7 8 Fizz Buzz 11 Fizz 13 14 FizzBuzz 16 17 Fizz 19 Buzz Fizz 22 23 Fizz Buzz 26 Fizz 28 29 FizzBuzz 31 32 Fizz 34 Buzz "
     ]
    }
   ],
   "source": [
    "# Exercise 5\n",
    "def fizzBuzz(upTo):\n",
    "    # Loop from 1 up to (and including) the upTo parameter:\n",
    "    for number in range(1, upTo+1):\n",
    "        # If the loop number is divisible by 3 and 5, print 'FizzBuzz':\n",
    "        if number % 3 == 0 and number % 5 == 0:\n",
    "            print('FizzBuzz', end=' ')\n",
    "        # Otherwise the loop number is divisible by only 3, print 'Fizz':\n",
    "        elif number % 3 == 0:\n",
    "            print('Fizz', end=' ')\n",
    "        # Otherwise the loop number is divisible by only 5, print 'Buzz':\n",
    "        elif number % 5 == 0:\n",
    "            print('Buzz', end=' ')\n",
    "        # Otherwise, print the loop number:\n",
    "        else:\n",
    "            print(number, end=' ')\n",
    "\n",
    "fizzBuzz(35)"
   ]
  },
  {
   "cell_type": "code",
   "execution_count": null,
   "metadata": {},
   "outputs": [],
   "source": []
  }
 ],
 "metadata": {
  "kernelspec": {
   "display_name": "base",
   "language": "python",
   "name": "python3"
  },
  "language_info": {
   "codemirror_mode": {
    "name": "ipython",
    "version": 3
   },
   "file_extension": ".py",
   "mimetype": "text/x-python",
   "name": "python",
   "nbconvert_exporter": "python",
   "pygments_lexer": "ipython3",
   "version": "3.9.13"
  },
  "orig_nbformat": 4
 },
 "nbformat": 4,
 "nbformat_minor": 2
}
