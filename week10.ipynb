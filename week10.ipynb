{
 "cells": [
  {
   "cell_type": "code",
   "execution_count": 1,
   "metadata": {},
   "outputs": [],
   "source": [
    "# week10: GUI section 8-1~ section 8-3\n",
    "# 跟GUI_code.ipynb 一起看\n",
    "\n",
    "# 引用 tkinter 模組\n",
    "# tkinter Widgets: Components of a graphical user interface\n",
    "\n",
    "# figure 8-2: .mainloop() 是一個無窮迴圈，除非window按了X，才會結束這個程式"
   ]
  },
  {
   "cell_type": "code",
   "execution_count": 1,
   "metadata": {},
   "outputs": [],
   "source": [
    "# figure 8-2\n",
    "from tkinter import *\n",
    "\n",
    "window = Tk() # TK is a class\n",
    "window.title(\"Button\") # 設定標題\n",
    "btnCalculate = Button(window, text=\"Caluculate\" , bg = \"light blue\") # bg為設定顏色\n",
    "btnCalculate.grid(padx =75,pady =15)\n",
    "window.mainloop()"
   ]
  },
  {
   "cell_type": "code",
   "execution_count": 2,
   "metadata": {},
   "outputs": [],
   "source": [
    "# figure 8-3\n",
    "from tkinter import *\n",
    "\n",
    "window = Tk() # TK is a class\n",
    "window.title(\"Label\") # 設定標題\n",
    "btnCalculate = Label(window, text=\"Principal\") \n",
    "btnCalculate.grid(padx =100,pady =15)\n",
    "window.mainloop()"
   ]
  },
  {
   "cell_type": "code",
   "execution_count": 3,
   "metadata": {},
   "outputs": [],
   "source": [
    "# figure 8-4\n",
    "from tkinter import *\n",
    "\n",
    "window = Tk() # TK is a class\n",
    "window.title(\"Label\") # 設定標題\n",
    "btnCalculate = Label(window, text=\"Principal\" , bg=\"light blue\") # 新增標籤背景顏色\n",
    "btnCalculate.grid(padx =100,pady =15)\n",
    "window.mainloop()"
   ]
  },
  {
   "cell_type": "code",
   "execution_count": null,
   "metadata": {},
   "outputs": [],
   "source": [
    "#　section 8-2\n",
    "# Grid: 那個視窗要怎麼做欄跟列的切割"
   ]
  }
 ],
 "metadata": {
  "kernelspec": {
   "display_name": "base",
   "language": "python",
   "name": "python3"
  },
  "language_info": {
   "codemirror_mode": {
    "name": "ipython",
    "version": 3
   },
   "file_extension": ".py",
   "mimetype": "text/x-python",
   "name": "python",
   "nbconvert_exporter": "python",
   "pygments_lexer": "ipython3",
   "version": "3.9.13"
  },
  "orig_nbformat": 4
 },
 "nbformat": 4,
 "nbformat_minor": 2
}
