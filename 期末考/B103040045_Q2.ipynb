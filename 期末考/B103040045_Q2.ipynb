{
 "cells": [
  {
   "cell_type": "code",
   "execution_count": 39,
   "metadata": {},
   "outputs": [
    {
     "name": "stdout",
     "output_type": "stream",
     "text": [
      "Uryyb, jbeyq!\n",
      "Hello, world!\n",
      "Hello, world!\n",
      "nopqrstuvwxyzabcdefghijklm\n",
      "NOPQRSTUVWXYZABCDEFGHIJKLM\n"
     ]
    }
   ],
   "source": [
    "def encry13(text):\n",
    "    new_text = \"\"\n",
    "    for i in text:\n",
    "        if i.isalpha(): # 是字母\n",
    "            if i.islower(): # 是小寫\n",
    "                encry_letter = chr((( (ord(i) +13)-ord('a') )%26 )+ord('a'))\n",
    "            elif i.isupper(): #是大寫\n",
    "                encry_letter = chr((( (ord(i) +13)-ord('A') )%26 )+ord('A'))\n",
    "            new_text += encry_letter\n",
    "        else:\n",
    "            new_text += i\n",
    "    \n",
    "    return new_text\n",
    "\n",
    "print(encry13(\"Hello, world!\"))\n",
    "print(encry13(\"Uryyb, jbeyq!\"))\n",
    "print(encry13(encry13('Hello, world!')))\n",
    "print(encry13(('abcdefghijklmnopqrstuvwxyz')))\n",
    "print(encry13(('ABCDEFGHIJKLMNOPQRSTUVWXYZ')))"
   ]
  },
  {
   "cell_type": "code",
   "execution_count": 38,
   "metadata": {},
   "outputs": [],
   "source": [
    "assert encry13(\"Hello, world!\") == 'Uryyb, jbeyq!'\n",
    "assert encry13(\"Uryyb, jbeyq!\") == 'Hello, world!'\n",
    "assert encry13(encry13('Hello, world!')) == 'Hello, world!'\n",
    "assert encry13(('abcdefghijklmnopqrstuvwxyz')) == 'nopqrstuvwxyzabcdefghijklm'\n",
    "assert encry13(('ABCDEFGHIJKLMNOPQRSTUVWXYZ')) == 'NOPQRSTUVWXYZABCDEFGHIJKLM'"
   ]
  },
  {
   "cell_type": "code",
   "execution_count": null,
   "metadata": {},
   "outputs": [],
   "source": []
  }
 ],
 "metadata": {
  "kernelspec": {
   "display_name": "base",
   "language": "python",
   "name": "python3"
  },
  "language_info": {
   "codemirror_mode": {
    "name": "ipython",
    "version": 3
   },
   "file_extension": ".py",
   "mimetype": "text/x-python",
   "name": "python",
   "nbconvert_exporter": "python",
   "pygments_lexer": "ipython3",
   "version": "3.9.13"
  },
  "orig_nbformat": 4
 },
 "nbformat": 4,
 "nbformat_minor": 2
}
