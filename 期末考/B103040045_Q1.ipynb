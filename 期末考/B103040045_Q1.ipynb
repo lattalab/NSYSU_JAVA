{
 "cells": [
  {
   "cell_type": "code",
   "execution_count": 11,
   "metadata": {},
   "outputs": [
    {
     "name": "stdout",
     "output_type": "stream",
     "text": [
      "[21, 23, 29, 34, 55, 66, 67, 77, 78, 79, 88, 89, 92, 96, 96, 100]\n"
     ]
    }
   ],
   "source": [
    "# test MergeSort\n",
    "data = [89, 34, 23, 78, 67, 100, 66, 29, 79, 55, 77, 88, 92, 96, 96, 21]\n",
    "\n",
    "def merge(left, right):\n",
    "    result = []\n",
    "\n",
    "    while len(left) and len(right):\n",
    "        if (left[0] < right[0]):\n",
    "            result.append(left.pop(0))\n",
    "        else:\n",
    "            result.append(right.pop(0))\n",
    "\n",
    "    result = result+left if len(left) else result+right\n",
    "    return result\n",
    "\n",
    "def mergeSort(array):\n",
    "    if len(array) < 2:\n",
    "        return array\n",
    "    \n",
    "    # divide and conquer\n",
    "    mid = len(array)//2\n",
    "    leftArray = array[:mid]\n",
    "    rightArray = array[mid:]\n",
    "\n",
    "    return merge(mergeSort(leftArray),mergeSort(rightArray))\n",
    "\n",
    "print(mergeSort(data))"
   ]
  },
  {
   "cell_type": "code",
   "execution_count": 12,
   "metadata": {},
   "outputs": [
    {
     "name": "stdout",
     "output_type": "stream",
     "text": [
      "[21, 23, 29, 34, 55, 66, 67, 77, 78, 79, 88, 89, 92, 96, 96, 100]\n"
     ]
    }
   ],
   "source": [
    "left = data[:8]\n",
    "right = data [8:]\n",
    "\n",
    "# test mergeTwolLists()\n",
    "def mergeTwoLists(list1,list2):\n",
    "    L  = list1 + list2\n",
    "    sorted_L = mergeSort(L)\n",
    "    return sorted_L\n",
    "\n",
    "print(mergeTwoLists(left,right))"
   ]
  },
  {
   "cell_type": "code",
   "execution_count": 14,
   "metadata": {},
   "outputs": [
    {
     "name": "stdout",
     "output_type": "stream",
     "text": [
      "\f\n"
     ]
    }
   ],
   "source": []
  }
 ],
 "metadata": {
  "kernelspec": {
   "display_name": "base",
   "language": "python",
   "name": "python3"
  },
  "language_info": {
   "codemirror_mode": {
    "name": "ipython",
    "version": 3
   },
   "file_extension": ".py",
   "mimetype": "text/x-python",
   "name": "python",
   "nbconvert_exporter": "python",
   "pygments_lexer": "ipython3",
   "version": "3.9.13"
  },
  "orig_nbformat": 4
 },
 "nbformat": 4,
 "nbformat_minor": 2
}
