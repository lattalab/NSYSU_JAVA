{
 "cells": [
  {
   "cell_type": "code",
   "execution_count": 26,
   "id": "d86d7925",
   "metadata": {},
   "outputs": [
    {
     "name": "stdout",
     "output_type": "stream",
     "text": [
      "0    4\n",
      "1    7\n",
      "2   -5\n",
      "3    3\n",
      "dtype: int64\n",
      "\n",
      "[ 4  7 -5  3]\n",
      "\n",
      "RangeIndex(start=0, stop=4, step=1)\n",
      "\n",
      "   year   state  pop debt\n",
      "a  2000    Ohio  1.5  NaN\n",
      "b  2001    Ohio  1.7  NaN\n",
      "c  2002    Ohio  3.6  NaN\n",
      "d  2001  Nevada  2.4  NaN\n",
      "e  2002  Nevada  2.9  NaN\n",
      "f  2003  Nevada  3.2  NaN \n",
      "\n",
      "year     2000\n",
      "state    Ohio\n",
      "pop       1.5\n",
      "debt      NaN\n",
      "Name: a, dtype: object \n",
      "\n",
      "year     2000\n",
      "state    Ohio\n",
      "pop       1.5\n",
      "debt      NaN\n",
      "Name: a, dtype: object \n",
      "\n",
      "[[2000 'Ohio' 1.5 nan]\n",
      " [2001 'Ohio' 1.7 nan]\n",
      " [2002 'Ohio' 3.6 nan]\n",
      " [2001 'Nevada' 2.4 nan]\n",
      " [2002 'Nevada' 2.9 nan]\n",
      " [2003 'Nevada' 3.2 nan]]\n"
     ]
    }
   ],
   "source": [
    "#note for ch5-pandas\n",
    "import pandas as pd\n",
    "import numpy as np\n",
    "my_obj = pd.Series([4, 7, -5, 3])\n",
    "print(my_obj)\n",
    "print()\n",
    "print(my_obj.values) #只印出值\n",
    "print()\n",
    "print(my_obj.index) #得知index代表的東西\n",
    "print()\n",
    "\n",
    "#dictionary 可以 轉換成 Pandas Series， 也可以從Pandas Series轉換回去 dictionary\n",
    "\n",
    "#both loc[] and iloc[] can access row data in DataFrame\n",
    "data = {\"state\": [\"Ohio\", \"Ohio\", \"Ohio\", \"Nevada\", \"Nevada\", \"Nevada\"],\n",
    "        \"year\": [2000, 2001, 2002, 2001, 2002, 2003],\n",
    "        \"pop\": [1.5, 1.7, 3.6, 2.4, 2.9, 3.2]}\n",
    "frame = pd.DataFrame(data,columns=[\"year\", \"state\", \"pop\", \"debt\"] , index = [\"a\", \"b\", \"c\", \"d\", \"e\",\"f\"])\n",
    "print(frame,\"\\n\")\n",
    "print(frame.loc[\"a\"],\"\\n\") #loc only available to the corresponding index\n",
    "print(frame.iloc[0],\"\\n\") #iloc can access default index\n",
    "\n",
    "print(frame.to_numpy()) #change to numpy ndarray\n",
    "\n",
    "#reshape(): which is defined in numpy，it can change the shape of DataFrame "
   ]
  },
  {
   "cell_type": "code",
   "execution_count": 34,
   "id": "b74fef05",
   "metadata": {},
   "outputs": [
    {
     "name": "stdout",
     "output_type": "stream",
     "text": [
      "   Ohio  Texas  California\n",
      "a     0      1           2\n",
      "c     3      4           5\n",
      "d     6      7           8\n",
      "   Ohio  Texas  California\n",
      "a     0      1           2\n",
      "c     3      4           5\n"
     ]
    }
   ],
   "source": [
    "frame = pd.DataFrame(np.arange(9).reshape((3, 3)),index=[\"a\", \"c\", \"d\"],columns=[\"Ohio\", \"Texas\", \"California\"])\n",
    "print(frame,'\\n')\n",
    "frame = frame.loc[[\"a\", \"c\"], [\"California\", \"Texas\"]] #reindex( index = ? , columns = ?)\n",
    "print(frame,\"\\n\")\n",
    "\n",
    "#pause on page 25"
   ]
  },
  {
   "cell_type": "code",
   "execution_count": null,
   "id": "48b521ce",
   "metadata": {},
   "outputs": [],
   "source": []
  }
 ],
 "metadata": {
  "kernelspec": {
   "display_name": "Python 3 (ipykernel)",
   "language": "python",
   "name": "python3"
  },
  "language_info": {
   "codemirror_mode": {
    "name": "ipython",
    "version": 3
   },
   "file_extension": ".py",
   "mimetype": "text/x-python",
   "name": "python",
   "nbconvert_exporter": "python",
   "pygments_lexer": "ipython3",
   "version": "3.9.13"
  }
 },
 "nbformat": 4,
 "nbformat_minor": 5
}
