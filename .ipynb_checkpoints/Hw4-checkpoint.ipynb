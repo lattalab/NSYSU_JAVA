{
 "cells": [
  {
   "cell_type": "code",
   "execution_count": 73,
   "id": "82f89e1a",
   "metadata": {},
   "outputs": [
    {
     "name": "stdout",
     "output_type": "stream",
     "text": [
      "Please input text file: sample.txt\n",
      "\n",
      "{'run': 4, 'a': 2, 'fox': 6, 'dog': 9, 'fly': 3, 'alumnus': 2, 'this': 2, 'be': 5, 'test': 2, 'file': 2, 'it': 1, 'have': 1, 'several': 1, 'sentence': 1, 'some': 1, 'of': 2, 'which': 1, 'repeat': 1, 'the': 12, 'same': 1, 'word': 1, 'quick': 4, 'brown': 4, 'jump': 1, 'over': 1, 'lazy': 6, 'sleep': 2, 'all': 1, 'day': 1, 'very': 2, 'fast': 1, 'faster': 1, 'than': 1, 'like': 2, 'to': 2, 'end': 1}\n"
     ]
    }
   ],
   "source": [
    "#problem 1\n",
    "#如果能將名詞單複數合併為同一單字，或者動詞時態歸為同一單字者(即名詞單複數視為相同，動詞不同時態視為相同)\n",
    "# =>用NLP library的 Lemmatization\n",
    "import nltk\n",
    "from nltk.stem import WordNetLemmatizer\n",
    "  \n",
    "lemmatizer = WordNetLemmatizer() #create a object to do Lemmatization \n",
    "\n",
    "filename = input(\"Please input text file: \")\n",
    "fp = open(filename,\"r\")\n",
    "whole = fp.read() #讀取整個內容\n",
    "#把標點符號弄掉\n",
    "whole = whole.replace(\",\", \"\").replace(\".\", \"\").replace(\"?\", \"\").replace(\"!\", \"\")\n",
    "whole = whole.replace(\";\", \"\").replace(\":\", \"\").replace(\"-\", \"\")\n",
    "words = whole.lower().split() #將英文字都變小數(就可以不用區分大小寫)，再切成list\n",
    "\n",
    "\n",
    "count = {}\n",
    "idx = 0\n",
    "for w in words:\n",
    "    # lemmatize the word to its base form\n",
    "    lemma1 = lemmatizer.lemmatize(w,'v')\n",
    "    lemma2 = lemmatizer.lemmatize(w,'n')\n",
    "   # add the lemma to the count dictionary\n",
    "    if lemma1 != w: #代表他可以還原成動詞原型\n",
    "        words[idx] = lemma1\n",
    "    elif lemma2 != w: #代表他可以還原成名詞原型\n",
    "        words[idx] = lemma2\n",
    "    idx += 1\n",
    "    \n",
    "count = {x:words.count(x) for x in words} #dictionary comprehension\n",
    "print()\n",
    "print(count)\n",
    "fp.close()"
   ]
  },
  {
   "cell_type": "code",
   "execution_count": 74,
   "id": "1232266b",
   "metadata": {},
   "outputs": [
    {
     "name": "stdout",
     "output_type": "stream",
     "text": [
      "Please input total number of fruits: 1000\n",
      "\n",
      "{'grape': 211, 'lemon': 195, 'orange': 210, 'apple': 192, 'banana': 192}\n"
     ]
    }
   ],
   "source": [
    "#problem 2\n",
    "\n",
    "import random\n",
    "count = int(input(\"Please input total number of fruits: \"))\n",
    "print()\n",
    "#random.choice():Return a random element from a list:\n",
    "fruit = [random.choice([\"apple\", \"orange\", \"banana\", \"grape\", \"lemon\"]) for i in range(count)]\n",
    "    \n",
    "f_dict = {s:fruit.count(s) for s in fruit} #use dictionary comprehension\n",
    "print(f_dict)"
   ]
  },
  {
   "cell_type": "code",
   "execution_count": 29,
   "id": "4bbf5fe6",
   "metadata": {},
   "outputs": [
    {
     "name": "stdout",
     "output_type": "stream",
     "text": [
      "Requirement already satisfied: nltk in d:\\ancode\\lib\\site-packages (3.7)\n",
      "Requirement already satisfied: regex>=2021.8.3 in d:\\ancode\\lib\\site-packages (from nltk) (2022.7.9)\n",
      "Requirement already satisfied: tqdm in d:\\ancode\\lib\\site-packages (from nltk) (4.64.1)\n",
      "Requirement already satisfied: joblib in d:\\ancode\\lib\\site-packages (from nltk) (1.1.0)\n",
      "Requirement already satisfied: click in d:\\ancode\\lib\\site-packages (from nltk) (8.0.4)\n",
      "Requirement already satisfied: colorama in d:\\ancode\\lib\\site-packages (from click->nltk) (0.4.5)\n",
      "Requirement already satisfied: nltk in d:\\ancode\\lib\\site-packages (3.7)\n",
      "Requirement already satisfied: joblib in d:\\ancode\\lib\\site-packages (from nltk) (1.1.0)\n",
      "Requirement already satisfied: click in d:\\ancode\\lib\\site-packages (from nltk) (8.0.4)\n",
      "Requirement already satisfied: regex>=2021.8.3 in d:\\ancode\\lib\\site-packages (from nltk) (2022.7.9)\n",
      "Requirement already satisfied: tqdm in d:\\ancode\\lib\\site-packages (from nltk) (4.64.1)\n",
      "Requirement already satisfied: colorama in d:\\ancode\\lib\\site-packages (from click->nltk) (0.4.5)\n",
      "Requirement already satisfied: nltk in d:\\ancode\\lib\\site-packages (3.7)\n",
      "Requirement already satisfied: tqdm in d:\\ancode\\lib\\site-packages (from nltk) (4.64.1)\n",
      "Requirement already satisfied: joblib in d:\\ancode\\lib\\site-packages (from nltk) (1.1.0)\n",
      "Requirement already satisfied: click in d:\\ancode\\lib\\site-packages (from nltk) (8.0.4)\n",
      "Requirement already satisfied: regex>=2021.8.3 in d:\\ancode\\lib\\site-packages (from nltk) (2022.7.9)\n",
      "Requirement already satisfied: colorama in d:\\ancode\\lib\\site-packages (from click->nltk) (0.4.5)\n",
      "showing info https://raw.githubusercontent.com/nltk/nltk_data/gh-pages/index.xml\n"
     ]
    },
    {
     "data": {
      "text/plain": [
       "True"
      ]
     },
     "execution_count": 29,
     "metadata": {},
     "output_type": "execute_result"
    }
   ],
   "source": [
    "!pip install nltk\n",
    "nltk.download()"
   ]
  },
  {
   "cell_type": "code",
   "execution_count": 1,
   "id": "d28cd131",
   "metadata": {},
   "outputs": [
    {
     "name": "stdout",
     "output_type": "stream",
     "text": [
      "The mean of Open is : 66.6768478701827\n",
      "The mean of High is : 66.97606085192689\n",
      "The mean of Low is : 66.34656795131849\n",
      "The mean of Close is : 66.6826572008113\n",
      "The mean of Amount is : 10831.791480730222\n"
     ]
    }
   ],
   "source": [
    "#problem 3\n",
    "import pandas\n",
    "import numpy\n",
    "\n",
    "df = pandas.read_csv(\"0050.csv\")  #read all the data in csv file\n",
    "\n",
    "#1.use numpy.mean() to calculate the mean\n",
    "#2.call the df[item name] to call the list data related to the item name\n",
    "print(\"The mean of Open is :\",numpy.mean(df[\"Open\"]))\n",
    "\n",
    "print(\"The mean of High is :\",numpy.mean(df[\"High\"]))\n",
    "\n",
    "print(\"The mean of Low is :\",numpy.mean(df[\"Low\"]))\n",
    "\n",
    "print(\"The mean of Close is :\",numpy.mean(df[\"Close\"]))\n",
    "\n",
    "print(\"The mean of Amount is :\",numpy.mean(df[\"Amount\"]))"
   ]
  },
  {
   "cell_type": "code",
   "execution_count": 67,
   "id": "bce73680",
   "metadata": {},
   "outputs": [
    {
     "name": "stdout",
     "output_type": "stream",
     "text": [
      "The mean of Open is : 66.6768478701827\n",
      "The mean of High is : 66.97606085192689\n",
      "The mean of Low is : 66.34656795131849\n",
      "The mean of Close is : 66.6826572008113\n",
      "The mean of High is : 10831.791480730222\n"
     ]
    }
   ],
   "source": [
    "#problem 3 extra\n",
    "#這是用ppt上一般的方法\n",
    "#我想跟用pandas讀檔案的方法相互比較output，也雙重練習一下\n",
    "\n",
    "fp = open(\"0050.csv\")\n",
    "\n",
    "fp.readline() #先讀第一行資訊列\n",
    "sum1 =0 ; sum2 =0;sum3 =0;sum4 =0;sum5 =0;\n",
    "lines = 0 #算行數\n",
    "for line in fp:\n",
    "    lines += 1\n",
    "    L = line.split(\",\")\n",
    "    sum1 += float(L[1])\n",
    "    sum2 += float(L[2])\n",
    "    sum3 += float(L[3])\n",
    "    sum4 += float(L[4])\n",
    "    sum5 += float(L[5])\n",
    "    \n",
    "print(\"The mean of Open is :\",sum1/lines)\n",
    "print(\"The mean of High is :\",sum2/lines)\n",
    "print(\"The mean of Low is :\",sum3/lines)\n",
    "print(\"The mean of Close is :\",sum4/lines)\n",
    "print(\"The mean of Amount is :\",sum5/lines)"
   ]
  },
  {
   "cell_type": "code",
   "execution_count": 15,
   "id": "51443736",
   "metadata": {},
   "outputs": [
    {
     "ename": "SyntaxError",
     "evalue": "invalid syntax (1144148107.py, line 14)",
     "output_type": "error",
     "traceback": [
      "\u001b[1;36m  File \u001b[1;32m\"C:\\Users\\vlva8\\AppData\\Local\\Temp\\ipykernel_2644\\1144148107.py\"\u001b[1;36m, line \u001b[1;32m14\u001b[0m\n\u001b[1;33m    f_dict = {s:fruitlist3.count(s) for s in fruit if len(fruitlist3 := [choice(fruit) for i in range(10000)])>0 else {} } #use dictionary comprehension\u001b[0m\n\u001b[1;37m                                                                                                                 ^\u001b[0m\n\u001b[1;31mSyntaxError\u001b[0m\u001b[1;31m:\u001b[0m invalid syntax\n"
     ]
    }
   ],
   "source": [
    "#hw4 problem2 explain in lecture\n",
    "from random import * #引用函式時可以不用加random\n",
    "fruit = [\"apple\", \"orange\", \"banana\", \"grape\", \"lemon\"]\n",
    "fruitlist = [fruit[randrange(5)] for i in range(10000)] #randrange: 0~4選一個出來\n",
    "fruitlist2 = [choice(fruit) for i in range(10000)] #choice是在那個list隨便選一個\n",
    "\n",
    "f_dict = {s:fruitlist.count(s) for s in fruit} #use dictionary comprehension\n",
    "print(f_dict)\n",
    "f_dict = {s:fruitlist2.count(s) for s in fruit} #use dictionary comprehension\n",
    "print(f_dict)\n",
    "\n",
    "#超級精簡版\n",
    "# := assignment\n",
    "f_dict = {s:fruitlist3.count(s) for s in fruit} if len(fruitlist3 := [choice(fruit) for i in range(10000)])>0 else {} #use dictionary comprehension\n",
    "print(f_dict)"
   ]
  },
  {
   "cell_type": "code",
   "execution_count": 6,
   "id": "34609839",
   "metadata": {},
   "outputs": [
    {
     "name": "stdout",
     "output_type": "stream",
     "text": [
      "30\n"
     ]
    }
   ],
   "source": [
    "x = 10\n",
    "y = 20 if x<5 else 30\n",
    "#意思同於 y = (x<5)? 20:30\n",
    "print(y)"
   ]
  },
  {
   "cell_type": "code",
   "execution_count": null,
   "id": "82bd5f2f",
   "metadata": {},
   "outputs": [],
   "source": []
  }
 ],
 "metadata": {
  "kernelspec": {
   "display_name": "Python 3 (ipykernel)",
   "language": "python",
   "name": "python3"
  },
  "language_info": {
   "codemirror_mode": {
    "name": "ipython",
    "version": 3
   },
   "file_extension": ".py",
   "mimetype": "text/x-python",
   "name": "python",
   "nbconvert_exporter": "python",
   "pygments_lexer": "ipython3",
   "version": "3.9.13"
  }
 },
 "nbformat": 4,
 "nbformat_minor": 5
}
