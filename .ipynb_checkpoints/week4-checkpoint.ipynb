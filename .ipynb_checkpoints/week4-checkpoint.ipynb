{
 "cells": [
  {
   "cell_type": "code",
   "execution_count": 1,
   "id": "3539c49f",
   "metadata": {},
   "outputs": [],
   "source": [
    "#Today:dictionary、data analysis ch2、5-2 CSV file\n",
    "\n",
    "#dictionary is mutable\n",
    "#.esv = excel，表格式的檔案\n",
    "\n",
    "#some preview for 5-1~5-3"
   ]
  },
  {
   "cell_type": "code",
   "execution_count": null,
   "id": "8957f058",
   "metadata": {},
   "outputs": [],
   "source": [
    "#read file ways:\n",
    "# 1: using for loop to print lines\n",
    "# 2: using list ex. [line.rstrip() for line in infile]\n",
    "# 3: using string: ex.strVar = infile.read() (read the whole context in infile)\n",
    "# But strVar = infile.readline() only the line\n",
    "\n",
    "#write file:\n",
    "#The writelines() method writes the items of a list to the file.\n",
    "#Sytnax: file.writelines(list)\n",
    "\n",
    "#file.write() method writes the \"string\" to the file\n",
    "##Sytnax: file.write(str)\n",
    "\n",
    "#set is unordered,no repetition and {}\n",
    "#but list is ordered,with repetition ,and []"
   ]
  },
  {
   "cell_type": "code",
   "execution_count": 6,
   "id": "21b9798f",
   "metadata": {},
   "outputs": [
    {
     "name": "stdout",
     "output_type": "stream",
     "text": [
      "['a', 'b', 'c']\n",
      "\n",
      "brand Ford\n",
      "model Mustang\n",
      "year 1964\n",
      "\n",
      "Ford\n",
      "Mustang\n",
      "1964\n",
      "\n",
      "brand\n",
      "model\n",
      "year\n",
      "\n",
      "('brand', 'Ford')\n",
      "('model', 'Mustang')\n",
      "('year', 1964)\n"
     ]
    }
   ],
   "source": [
    "#dictionary:\n",
    "#dict.get(key,default)\n",
    "#利用key的值取出相對應的value，可以使用中括號(square brackets)或是dict.get(key)存取。\n",
    "\n",
    "#這兩種方式主要差異在於當key不存在於dict時所引發的行為，中括號會拋出KeyError而dict.get(key)則會回傳None。\n",
    "#若想傳回預設值，可以使用get(key, default)\n",
    "\n",
    "d = {\"a\":5, \"b\":2, \"c\":1}\n",
    "print(list(d)) #keys change to list(set,tuple are ok ,too.)\n",
    "\n",
    "#hint loop through the dictionary:\n",
    "# a single loop to through the key\n",
    "print()\n",
    "thisdict = {\n",
    "  \"brand\": \"Ford\",\n",
    "  \"model\": \"Mustang\",\n",
    "  \"year\": 1964\n",
    "}\n",
    "for x in thisdict:\n",
    "    print(x,end = \" \") #print key\n",
    "    print(thisdict[x]) #print value\n",
    "    \n",
    "print()\n",
    "for x in thisdict.values(): #loop through dict value\n",
    "    print(x)\n",
    "    \n",
    "print()\n",
    "for x in thisdict.keys(): #loop through dict key\n",
    "    print(x)\n",
    "    \n",
    "print()\n",
    "for x in thisdict.items(): #loop through dict items\n",
    "    print(x)"
   ]
  },
  {
   "cell_type": "code",
   "execution_count": 8,
   "id": "6f2980c0",
   "metadata": {},
   "outputs": [
    {
     "name": "stdout",
     "output_type": "stream",
     "text": [
      "Requirement already satisfied: pandas in d:\\ancode\\lib\\site-packages (1.4.4)\n",
      "Requirement already satisfied: python-dateutil>=2.8.1 in d:\\ancode\\lib\\site-packages (from pandas) (2.8.2)\n",
      "Requirement already satisfied: pytz>=2020.1 in d:\\ancode\\lib\\site-packages (from pandas) (2022.1)\n",
      "Requirement already satisfied: numpy>=1.18.5 in d:\\ancode\\lib\\site-packages (from pandas) (1.21.5)\n",
      "Requirement already satisfied: six>=1.5 in d:\\ancode\\lib\\site-packages (from python-dateutil>=2.8.1->pandas) (1.16.0)\n"
     ]
    }
   ],
   "source": [
    "!pip install pandas"
   ]
  },
  {
   "cell_type": "code",
   "execution_count": 9,
   "id": "9da7d169",
   "metadata": {},
   "outputs": [
    {
     "name": "stdout",
     "output_type": "stream",
     "text": [
      "Requirement already satisfied: numpy in d:\\ancode\\lib\\site-packages (1.21.5)\n"
     ]
    }
   ],
   "source": [
    "!pip install numpy"
   ]
  },
  {
   "cell_type": "code",
   "execution_count": 14,
   "id": "4cdc9459",
   "metadata": {},
   "outputs": [],
   "source": []
  },
  {
   "cell_type": "code",
   "execution_count": null,
   "id": "aad5f76f",
   "metadata": {},
   "outputs": [],
   "source": []
  }
 ],
 "metadata": {
  "kernelspec": {
   "display_name": "Python 3 (ipykernel)",
   "language": "python",
   "name": "python3"
  },
  "language_info": {
   "codemirror_mode": {
    "name": "ipython",
    "version": 3
   },
   "file_extension": ".py",
   "mimetype": "text/x-python",
   "name": "python",
   "nbconvert_exporter": "python",
   "pygments_lexer": "ipython3",
   "version": "3.9.13"
  }
 },
 "nbformat": 4,
 "nbformat_minor": 5
}
