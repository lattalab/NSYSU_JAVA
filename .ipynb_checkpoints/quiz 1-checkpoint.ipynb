{
 "cells": [
  {
   "cell_type": "code",
   "execution_count": 26,
   "id": "4e5cef43",
   "metadata": {},
   "outputs": [
    {
     "name": "stdout",
     "output_type": "stream",
     "text": [
      "n項元素: 10\n",
      "y 數值: 3\n",
      "\n",
      "List(1~10): [1, 2, 3, 4, 5, 6, 7, 8, 9, 10]，總共10項元素。\n",
      "List(除以3 餘 0): [3, 6, 9]，總共 3 項元素。\n",
      "List(除以3 餘 1): [1, 4, 7, 10]，總共 4 項元素。\n",
      "List(除以3 餘 2): [2, 5, 8]，總共 3 項元素。\n",
      "合併後輸出 : [3, 6, 9, 1, 4, 7, 10, 2, 5, 8]\n"
     ]
    }
   ],
   "source": [
    "num = int(input(\"n項元素: \"))\n",
    "y = int(input(\"y 數值: \"))\n",
    "print(\"\")\n",
    "\n",
    "#set list\n",
    "L1=[]\n",
    "L3=[]\n",
    "for x in range(1,num+1):\n",
    "    L1.append(x)\n",
    "print(\"List(1~{0:d}): {1}，總共{0:d}項元素。\".format(num,L1))\n",
    "\n",
    "for mod in range(y):\n",
    "    L2=[]\n",
    "    for n in range(1,num+1):\n",
    "        if ((n%3) == mod):\n",
    "            L2.append(n)\n",
    "    print(\"List(除以{0:d} 餘 {1:d}): {2}，總共 {3:d} 項元素。\".format(y,mod,L2,len(L2)))\n",
    "    L3.extend(L2)\n",
    "\n",
    "print(\"合併後輸出 : {}\".format(L3))"
   ]
  },
  {
   "cell_type": "code",
   "execution_count": null,
   "id": "a025b723",
   "metadata": {},
   "outputs": [],
   "source": []
  },
  {
   "cell_type": "code",
   "execution_count": null,
   "id": "752d5e35",
   "metadata": {},
   "outputs": [],
   "source": []
  }
 ],
 "metadata": {
  "kernelspec": {
   "display_name": "Python 3 (ipykernel)",
   "language": "python",
   "name": "python3"
  },
  "language_info": {
   "codemirror_mode": {
    "name": "ipython",
    "version": 3
   },
   "file_extension": ".py",
   "mimetype": "text/x-python",
   "name": "python",
   "nbconvert_exporter": "python",
   "pygments_lexer": "ipython3",
   "version": "3.9.13"
  }
 },
 "nbformat": 4,
 "nbformat_minor": 5
}
