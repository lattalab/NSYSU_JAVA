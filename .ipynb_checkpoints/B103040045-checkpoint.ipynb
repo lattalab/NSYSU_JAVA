{
 "cells": [
  {
   "cell_type": "code",
   "execution_count": 68,
   "id": "b5fb467a",
   "metadata": {},
   "outputs": [
    {
     "name": "stdout",
     "output_type": "stream",
     "text": [
      "             Open   High    Low  Close  Amount\n",
      "Date                                          \n",
      "2011/8/5    55.70  55.70  54.45  54.45   93525\n",
      "2011/8/8    54.30  54.65  51.40  53.50   88159\n",
      "2018/10/11  80.15  80.15  77.35  77.40   68552\n",
      "2020/3/19   71.00  71.00  67.25  68.55   68038\n",
      "2011/9/23   50.50  50.85  49.93  50.35   64026\n",
      "...           ...    ...    ...    ...     ...\n",
      "2019/10/21  87.95  88.00  87.75  87.85    1078\n",
      "2017/10/24  84.50  84.50  84.20  84.40    1072\n",
      "2017/11/24  85.25  85.30  84.95  85.15    1069\n",
      "2017/11/14  84.30  84.30  83.95  84.15    1016\n",
      "2017/11/8   85.20  85.20  84.95  84.95     810\n",
      "\n",
      "[1122 rows x 5 columns]\n",
      "\n",
      "array([[55, 55, 54, 54, 93525], [54, 54, 51, 53, 88159], [80, 80, 77, 77, 68552]] ,dtype=int64)\n",
      "array([[   55    55    54    54 93525]\n",
      " [   54    54    51    53 88159]\n",
      " [   80    80    77    77 68552]],dtype=int64)\n"
     ]
    }
   ],
   "source": [
    "import numpy as np\n",
    "import pandas as pd\n",
    "fp = pd.read_csv(\"0050.csv\")\n",
    "\n",
    "df = pd.DataFrame({\"Open\":list(fp[\"Open\"]), \n",
    "                   \"High\":list(fp[\"High\"]), \n",
    "                   \"Low\":list(fp[\"Low\"]), \n",
    "                   \"Close\":list(fp[\"Close\"]), \n",
    "                   \"Amount\":list(fp[\"Amount\"])}, \n",
    "                  index = fp[\"Date\"])\n",
    "\n",
    "conditions = df[\"Open\"] > df[\"Close\"]\n",
    "df2 = df[conditions]\n",
    "\n",
    "df3 = df2.sort_values(\"Amount\", ascending=[False])\n",
    "print(df3)\n",
    "\n",
    "print()\n",
    "\n",
    "L = []\n",
    "for i in range(3):\n",
    "    a = []\n",
    "    a.append(int(df3[\"Open\"][i]))\n",
    "    a.append(int(df3[\"High\"][i]))\n",
    "    a.append(int(df3[\"Low\"][i]))\n",
    "    a.append(int(df3[\"Close\"][i]))\n",
    "    a.append(int(df3[\"Amount\"][i]))\n",
    "    L.append(a)\n",
    "    \n",
    "Arr = np.array(L,dtype = np.int64)\n",
    "print(\"array({} ,dtype={})\".format(L,Arr.dtype))\n",
    "\n",
    "#addition\n",
    "#就這麼印出來了 有夠神奇\n",
    "Arr.reshape(3,5)\n",
    "print(\"array({},dtype={})\".format(Arr,Arr.dtype))"
   ]
  },
  {
   "cell_type": "code",
   "execution_count": null,
   "id": "47e8b981",
   "metadata": {},
   "outputs": [],
   "source": []
  }
 ],
 "metadata": {
  "kernelspec": {
   "display_name": "Python 3 (ipykernel)",
   "language": "python",
   "name": "python3"
  },
  "language_info": {
   "codemirror_mode": {
    "name": "ipython",
    "version": 3
   },
   "file_extension": ".py",
   "mimetype": "text/x-python",
   "name": "python",
   "nbconvert_exporter": "python",
   "pygments_lexer": "ipython3",
   "version": "3.9.13"
  }
 },
 "nbformat": 4,
 "nbformat_minor": 5
}
