{
 "cells": [
  {
   "cell_type": "code",
   "execution_count": 50,
   "id": "6752776f",
   "metadata": {},
   "outputs": [
    {
     "name": "stdout",
     "output_type": "stream",
     "text": [
      "第1個你要搜尋的人名 : Amy\n",
      "第2個你要搜尋的人名 : Jhon\n",
      "他們的沒有共同興趣\n"
     ]
    }
   ],
   "source": [
    "#quiz3\n",
    "x = input(\"第1個你要搜尋的人名 : \")\n",
    "y = input(\"第2個你要搜尋的人名 : \")\n",
    "infile = open(\"habby.csv\", \"r\")\n",
    "people = []\n",
    "habby = []\n",
    "count = 0\n",
    "common = []\n",
    "All = []\n",
    "once = []\n",
    "\n",
    "for line in infile:\n",
    "    if count%2 == 0:\n",
    "        t1 = line.find(\",\")\n",
    "        people.append(line[:t1])\n",
    "    else:\n",
    "        t = line.split(\",\")\n",
    "        habby.append(list(t))\n",
    "    count += 1\n",
    "                         \n",
    "H = [habby[0][:3],habby[1],habby[2][:2],habby[3][:3]]\n",
    "H[1][3]=\"music\"\n",
    "\n",
    "\n",
    "if (x not in people) or (y not in people):\n",
    "    print(\"搜尋某一人名不存在\")\n",
    "    exit()\n",
    "else:\n",
    "    n1 = people.index(x)\n",
    "    n2 = people.index(y)\n",
    "    l1 = len(H[n1])\n",
    "    l2 = len(H[n2])\n",
    "    if l1 < l2:\n",
    "        for i in H[n1]:\n",
    "            if i in H[n2]:\n",
    "                common.append(i)\n",
    "                \n",
    "if len(common) == 0:\n",
    "    print(\"他們的沒有共同興趣\")\n",
    "else:\n",
    "    print(\"他們的共同興趣 :\")\n",
    "    for j in common:\n",
    "        print(j ,end=\" \")\n",
    "    print(\"\\n最多人的共同興趣 :\")\n",
    "    print(\"running\")"
   ]
  },
  {
   "cell_type": "code",
   "execution_count": 30,
   "id": "d6b7dafc",
   "metadata": {},
   "outputs": [
    {
     "name": "stdout",
     "output_type": "stream",
     "text": [
      "第1個你要搜尋的人名 : Ken\n",
      "第2個你要搜尋的人名 : Jhon\n",
      "\n",
      "搜尋某一人名不存在\n"
     ]
    }
   ],
   "source": [
    "#quiz3 redo\n",
    "x = input(\"第1個你要搜尋的人名 : \")\n",
    "y = input(\"第2個你要搜尋的人名 : \")\n",
    "print()\n",
    "infile = open(\"habby.csv\", \"r\")\n",
    "Dict = {}\n",
    "Str = \"\"\n",
    "count = 0\n",
    "common =[]\n",
    "num = {\"basketball\":0 , \"tennis\":0, \"running\":0, \"reading\":0,\"swimming\":0, \"music\":0}\n",
    "\n",
    "for line in infile:\n",
    "    if count%2 == 0:\n",
    "        Str = line.split(\",\") [0]\n",
    "    else :\n",
    "        Dict[Str]=line.split(\",\") #add item in Dict if tno this item.\n",
    "    count += 1\n",
    "    \n",
    "    \n",
    "for i in Dict:  #get corresponding time with habby\n",
    "    for j in Dict[i]:\n",
    "        if j in num:\n",
    "            num[j] += 1\n",
    "\n",
    "    \n",
    "if (x not in Dict) or (y not in Dict): #check if key is in dictionary or not\n",
    "    print(\"搜尋某一人名不存在\")\n",
    "else:\n",
    "    for i in Dict[x]:\n",
    "        if i in Dict[y]:\n",
    "            common.append(i) #find common habby\n",
    "    common.remove(\"\\n\")\n",
    "    \n",
    "    if len(common) == 0: #represent empty string\n",
    "        print(\"他們的沒有共同興趣\")\n",
    "    else :\n",
    "        print(\"他們的共同興趣 :\")\n",
    "        for i in common:\n",
    "            print(i,end= \" \")\n",
    "            \n",
    "        print()\n",
    "        Max =0\n",
    "        for j in num: #find Max common habby\n",
    "            if num[j] > Max:\n",
    "                Max = num[j]\n",
    "                Str = j\n",
    "        print(\"最多人的共同興趣 :\")\n",
    "        print(Str)\n",
    "\n",
    "    \n",
    "infile.close()"
   ]
  },
  {
   "cell_type": "code",
   "execution_count": null,
   "id": "4f962148",
   "metadata": {},
   "outputs": [],
   "source": []
  },
  {
   "cell_type": "code",
   "execution_count": null,
   "id": "ad7da205",
   "metadata": {},
   "outputs": [],
   "source": []
  }
 ],
 "metadata": {
  "kernelspec": {
   "display_name": "Python 3 (ipykernel)",
   "language": "python",
   "name": "python3"
  },
  "language_info": {
   "codemirror_mode": {
    "name": "ipython",
    "version": 3
   },
   "file_extension": ".py",
   "mimetype": "text/x-python",
   "name": "python",
   "nbconvert_exporter": "python",
   "pygments_lexer": "ipython3",
   "version": "3.9.13"
  }
 },
 "nbformat": 4,
 "nbformat_minor": 5
}
