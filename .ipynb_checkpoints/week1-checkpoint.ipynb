{
 "cells": [
  {
   "cell_type": "code",
   "execution_count": 5,
   "id": "424c1899",
   "metadata": {},
   "outputs": [
    {
     "name": "stdout",
     "output_type": "stream",
     "text": [
      "5 1 6 4.0 4 64 14 1\n"
     ]
    }
   ],
   "source": [
    "#Today: Section 2-1,2-2,2-3 2-4的text file\n",
    "\n",
    "#python is a interpreted language, which means 一行一行看\n",
    "#In constrast to C，可以看完整個program做最佳化\n",
    "#useful website: www.w3schools.com\n",
    "\n",
    "#print():通常一個參數，若要多個可以用逗號隔開 ex:\n",
    "print(3+2,3-2,3*2, 8/2 , 8//2 , 8**2 , 2*(3+4) , 7%2)\n",
    "# /: 除法，結果是float\n",
    "#//: 整數除法，結果是int"
   ]
  },
  {
   "cell_type": "code",
   "execution_count": 4,
   "id": "c11824a2",
   "metadata": {},
   "outputs": [
    {
     "name": "stdout",
     "output_type": "stream",
     "text": [
      "2\n",
      "2.12\n"
     ]
    }
   ],
   "source": [
    "#round() 四捨五入\n",
    "#一個參數:要四捨五入的數\n",
    "#兩個參數:第二個參數為取到小數點第幾位\n",
    "print(round(2.32))\n",
    "print(round)"
   ]
  },
  {
   "cell_type": "code",
   "execution_count": 41,
   "id": "a83a0b53",
   "metadata": {},
   "outputs": [
    {
     "name": "stdout",
     "output_type": "stream",
     "text": [
      "6\n",
      "6\n",
      "-1\n",
      "\n",
      "2\n",
      "9\n"
     ]
    }
   ],
   "source": [
    "str1=\"Hello World!\"\n",
    "print(str1.find('W'))\n",
    "print(str1.rfind('W'))\n",
    "print(str1.find('x'))\n",
    "print(\"\")\n",
    "\n",
    "#find(): 如果遇到重複的字母回傳第一個出現的\n",
    "#rfind(): 回傳最後一個出現的\n",
    "print(str1.find('l'))\n",
    "print(str1.rfind('l'))"
   ]
  },
  {
   "cell_type": "code",
   "execution_count": 39,
   "id": "0a86518d",
   "metadata": {},
   "outputs": [
    {
     "name": "stdout",
     "output_type": "stream",
     "text": [
      "Code\n",
      "Caaaode\n",
      "\n",
      "Beh Hur\n",
      "Behhur\n",
      "Happy Birthday To You\n",
      "\n",
      "abs    6\n",
      "abs 3\n"
     ]
    }
   ],
   "source": [
    "#string functions\n",
    "\n",
    "#capitalize() :放大first word，其餘小寫\n",
    "print(\"coDE\".capitalize())\n",
    "print(\"CAAAoDE\".capitalize())\n",
    "print(\"\")\n",
    "\n",
    "#title() :每個單字第一個字大寫，其餘小寫\n",
    "print(\"beH hur\".title())\n",
    "print(\"beHhur\".title())\n",
    "print(\"happy birthday to you\".title())\n",
    "print(\"\")\n",
    "\n",
    "#rstrip() :移空白\n",
    "print(\"abs   \" , len(\"abs   \"))\n",
    "print(\"abs   \".rstrip() , len(\"abs   \".rstrip()))"
   ]
  },
  {
   "cell_type": "code",
   "execution_count": 25,
   "id": "01d28630",
   "metadata": {},
   "outputs": [
    {
     "name": "stdout",
     "output_type": "stream",
     "text": [
      "23.5\n",
      "37\n",
      "30\n"
     ]
    }
   ],
   "source": [
    "#eval() :字串轉數字\n",
    "print(eval(\"23.5\"))\n",
    "print(eval(\"23 + (2 * 7)\"))\n",
    "print(eval(\"23\")+7)\n",
    "\n",
    "#update:將字串的內容執行出來"
   ]
  },
  {
   "cell_type": "code",
   "execution_count": 32,
   "id": "e372b09d",
   "metadata": {},
   "outputs": [
    {
     "name": "stdout",
     "output_type": "stream",
     "text": [
      "well written code is its own best documentation.\n",
      "well written code is its own best documentation. Test version2\n"
     ]
    }
   ],
   "source": [
    "#line continuation\n",
    "quotation = (\"well written code is its own \" +\n",
    "            \"best documentation.\")\n",
    "print(quotation)\n",
    "quotation2 = (\"well written code is its own \\\n",
    "best documentation. Test version2\")\n",
    "print(quotation2)"
   ]
  },
  {
   "cell_type": "code",
   "execution_count": 33,
   "id": "26bd3709",
   "metadata": {},
   "outputs": [
    {
     "name": "stdout",
     "output_type": "stream",
     "text": [
      "Python\n",
      "Pyt\n",
      "thon\n"
     ]
    }
   ],
   "source": [
    "str1 = \"Python\"\n",
    "#slice 的範圍可以超過 (out of Bound)\n",
    "print(str1[-10:10])\n",
    "print(str1[-10:3])\n",
    "print(str1[2:10])"
   ]
  },
  {
   "cell_type": "code",
   "execution_count": 42,
   "id": "7340e083",
   "metadata": {},
   "outputs": [
    {
     "name": "stdout",
     "output_type": "stream",
     "text": [
      "Hello World\n",
      "Hello**World\n",
      "HelloWorld\n",
      "\n",
      "Hello World!\n",
      "HelloWorld!\n",
      "Hello World! space "
     ]
    }
   ],
   "source": [
    "#sep for print() :隔字串\n",
    "print(\"Hello\", \"World\") #normal\n",
    "print(\"Hello\", \"World\", sep=\"**\")\n",
    "print(\"Hello\", \"World\", sep=\"\")\n",
    "\n",
    "#end for print() :結尾放東西\n",
    "print(\"\")\n",
    "print(\"Hello\", end=\" \")\n",
    "print(\"World!\")\n",
    "print(\"Hello\", end=\"\")\n",
    "print(\"World!\")\n",
    "print(\"Hello World!\", end=\" space \")"
   ]
  },
  {
   "cell_type": "code",
   "execution_count": 48,
   "id": "b0307f25",
   "metadata": {},
   "outputs": [
    {
     "name": "stdout",
     "output_type": "stream",
     "text": [
      "a\t*\n",
      "a *\n"
     ]
    }
   ],
   "source": [
    "#expandtabs() :預設空格是8，改變空格數\n",
    "print(\"a\\t\",end=\"*\")\n",
    "print(\"\")\n",
    "print(\"a\\t\".expandtabs(2),end=\"*\")\n",
    "print(\"\")"
   ]
  },
  {
   "cell_type": "code",
   "execution_count": 12,
   "id": "07ab9add",
   "metadata": {},
   "outputs": [
    {
     "name": "stdout",
     "output_type": "stream",
     "text": [
      "a and b \n",
      "1 and 2 \n",
      "3.14159 and 2.332 \n",
      "\n",
      "hello python\n",
      "hello python\n",
      "python hello\n",
      "hello python python\n",
      "hey , how are you?\n",
      "\n",
      "hap\n",
      "3.14\n",
      "003.142\n",
      "14.15%\n",
      "69.00%\n",
      "  1234.57%\n"
     ]
    }
   ],
   "source": [
    "#print format\n",
    "#語法: \" ..{}..  \".format(value) ， value可為num or string\n",
    "print(\"{} and b \".format('a'))    #value = str\n",
    "print(\"{} and 2 \".format(1))    #value = int\n",
    "print(\"{} and 2.332 \".format(3.14159))    #value = str\n",
    "print(\"\")\n",
    "\n",
    "#括號中可指定元素 :0取第一個，1取第二個，或是指定變數\n",
    "print(\"{} {}\".format(\"hello\", \"python\"))    #不設定位置，輸出按照順序\n",
    "print(\"{0} {1}\".format(\"hello\", \"python\"))    #設定第一個括號放 0 --> hello\n",
    "print(\"{1} {0}\".format(\"hello\", \"python\"))    #設定位置跟後面相反，所以先輸出 python\n",
    "print(\"{0} {1} {1}\".format(\"hello\", \"python\"))\n",
    "x = \"hey\"\n",
    "print(\"{0} , how are {1}?\".format(x,\"you\"))\n",
    "print(\"\")\n",
    "\n",
    "#也可以在括號中強調要輸出的資料型態\n",
    "#:s -> str ， :d -> 10進位 ， :f -> float ， :b -> 2進位 ， :o ->八進位 ， :c ->char ， :% ->百分比形式輸出...etc\n",
    "#控制位數\n",
    "print('{:.3s}'.format('happy'))    # .3 代表指顯示 3 個文字\n",
    "print('{:.2f}'.format(3.1415926))    # .2f 代表小數點後兩位\n",
    "print('{:07.3f}'.format(3.1415926))    #限制總共 7 位元，小數點後 3 位所以前面補兩個 ０\n",
    "print('{:.2%}'.format(0.141526))\n",
    "print(\"{:.2%}\".format(0.69))\n",
    "print(\"{0:10.2%}\".format(12.345678))"
   ]
  },
  {
   "cell_type": "code",
   "execution_count": 18,
   "id": "6715d25e",
   "metadata": {},
   "outputs": [
    {
     "name": "stdout",
     "output_type": "stream",
     "text": [
      "['a', 'b', 'c']\n",
      "['a', 'b', 'c']\n",
      "['a', 'b', 'c']\n",
      "['a', 'b', 'c']\n",
      "\n",
      "{'to', 'or', 'To', 'be.', 'be', 'not'}\n",
      "to or To be. be not\n"
     ]
    }
   ],
   "source": [
    "#split() :以括號中的元素為分割點 (str->list)\n",
    "print(\"a,b,c\".split(\",\"))\n",
    "print(\"a**b**c\".split('**'))\n",
    "print(\"a\\nb\\nc\".split())\n",
    "print(\"a b c\".split(' '))\n",
    "print(\"\")\n",
    "\n",
    "#join() :以括號中的元素為sublist的連接單位 (list->str)\n",
    "line = {\"To\", \"be\", \"or\", \"not\", \"to\", \"be.\"}\n",
    "print(line)\n",
    "print(\" \".join(line))"
   ]
  },
  {
   "cell_type": "code",
   "execution_count": 1,
   "id": "8faf5d3d",
   "metadata": {},
   "outputs": [
    {
     "name": "stdout",
     "output_type": "stream",
     "text": [
      "[0, 1, 4, 9, 16, 25, 36, 49, 64, 81]\n",
      "[0, 1, 2, 3, 4, 5, 6, 7, 8, 9]\n"
     ]
    }
   ],
   "source": [
    "#Using List Comprehensions\n",
    "#ex1\n",
    "squares = [i * i for i in range(10)]\n",
    "print(squares)\n",
    "#ex2\n",
    "list = [x for x in range(10)]\n",
    "print(list)"
   ]
  },
  {
   "cell_type": "code",
   "execution_count": null,
   "id": "c5f4ef5a",
   "metadata": {},
   "outputs": [],
   "source": []
  }
 ],
 "metadata": {
  "kernelspec": {
   "display_name": "Python 3 (ipykernel)",
   "language": "python",
   "name": "python3"
  },
  "language_info": {
   "codemirror_mode": {
    "name": "ipython",
    "version": 3
   },
   "file_extension": ".py",
   "mimetype": "text/x-python",
   "name": "python",
   "nbconvert_exporter": "python",
   "pygments_lexer": "ipython3",
   "version": "3.9.13"
  }
 },
 "nbformat": 4,
 "nbformat_minor": 5
}
