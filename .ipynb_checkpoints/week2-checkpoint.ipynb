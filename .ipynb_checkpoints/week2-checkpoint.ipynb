{
 "cells": [
  {
   "cell_type": "code",
   "execution_count": 4,
   "id": "c0171c14",
   "metadata": {},
   "outputs": [
    {
     "name": "stdout",
     "output_type": "stream",
     "text": [
      " ProblemSize          Second\n",
      "    10000000           2.714\n",
      "    20000000           5.392\n",
      "    40000000          10.817\n",
      "    80000000          21.615\n",
      "   160000000          43.193\n"
     ]
    }
   ],
   "source": [
    "# Today: review ch1 ， ch3-algorithm\n",
    "\n",
    "#big-O(時間複雜度)、sort、space/time-trade off\n",
    "#get run time: end time-start time\n",
    "\n",
    "import time\n",
    "\n",
    "ProblemSize = 10000000\n",
    "print(\"%12s%16s\" %(\"ProblemSize\",\"Second\"))\n",
    "for count in range(5):\n",
    "    start=time.time()\n",
    "    #The start of the algorithm\n",
    "    work=1\n",
    "    for x in range(ProblemSize):\n",
    "        work +=1\n",
    "        work -=1\n",
    "    #The end of the algorithm\n",
    "    elapsed = time.time()-start\n",
    "    print(\"%12s%16.3f\" %(ProblemSize,elapsed))\n",
    "    ProblemSize *=2"
   ]
  },
  {
   "cell_type": "code",
   "execution_count": 4,
   "id": "51a6dc0d",
   "metadata": {},
   "outputs": [
    {
     "name": "stdout",
     "output_type": "stream",
     "text": [
      " ProblemSize          Second\n",
      "        1000           0.288\n",
      "        2000           1.121\n",
      "        4000           4.467\n",
      "        8000          17.800\n",
      "       16000          70.492\n"
     ]
    }
   ],
   "source": [
    "#O(1) < O(log n) < O(n) < O(nlog n) < O(n^2) < O(n^3) < O(2^n) <O(n!) < O(n^n)\n",
    "#big-O :upper bound(at most)\n",
    "import time\n",
    "\n",
    "ProblemSize = 1000\n",
    "print(\"%12s%16s\" %(\"ProblemSize\",\"Second\"))\n",
    "for count in range(5):\n",
    "    start=time.time()\n",
    "    #The start of the algorithm\n",
    "    work=1\n",
    "    #nest loop O(n^2)\n",
    "    for j in range(ProblemSize):\n",
    "        for k in range(ProblemSize):\n",
    "            work +=1\n",
    "            work -=1\n",
    "    #The end of the algorithm\n",
    "    elapsed = time.time()-start\n",
    "    print(\"%12s%16.3f\" %(ProblemSize,elapsed))\n",
    "    ProblemSize *=2"
   ]
  },
  {
   "cell_type": "code",
   "execution_count": 17,
   "id": "18b94295",
   "metadata": {},
   "outputs": [
    {
     "name": "stdout",
     "output_type": "stream",
     "text": [
      "[2, 4, 5, 6, 8]\n"
     ]
    }
   ],
   "source": [
    "#python sorting\n",
    "#built-in sorting:\n",
    "array = [8, 2, 6, 4, 5]\n",
    "print(sorted(array))\n",
    "\n",
    "#bubble sort(大數浮到最後面)\n",
    "for i in range(len(array)-1):  #compare with n-1\n",
    "    for j in range(len(array)-1-i):  #每次排序會少排一個\n",
    "         # If the item you're looking at is greater than its\n",
    "                # adjacent value, then swap them\n",
    "        if array[j]>array[j+1]:\n",
    "              array[j], array[j + 1] = array[j + 1], array[j]\n",
    "                \n",
    "print(array)\n",
    "\n",
    "#insertion sort(插到適當位置) ->real life example:撲克牌\n",
    "for i in range(1,len(array)):  #從array的第二個元素開始比(第一個當已經排好)\n",
    "    key = array[i]\n",
    "    j=i-1\n",
    "    while j>=0 and array[j]>key: #有比較大就往後移\n",
    "        array[j+1]=array[j]\n",
    "        j -= 1\n",
    "    array[j+1]=key\n",
    "print(array)\n",
    "\n",
    "#selection sort 找最小值放到前面\n",
    "for i in range(len(array)-1): #compare with n-1\n",
    "    min_idx = i  #紀錄現在的index\n",
    "    for j in range(i+1,len(array)): #在後面找找看有沒有更小的元素\n",
    "        if array[j] < array[min_idx]:\n",
    "            min_idx = j\n",
    "    if i!=min_idx: #交換位置\n",
    "        temp = array[i]\n",
    "        array[i] = array[min_idx]\n",
    "        array[min_idx] = temp\n",
    "print(array)\n",
    "\n",
    "#merge sort and quick sort"
   ]
  },
  {
   "cell_type": "code",
   "execution_count": null,
   "id": "a3b50431",
   "metadata": {},
   "outputs": [],
   "source": []
  },
  {
   "cell_type": "code",
   "execution_count": 11,
   "id": "19eeba9d",
   "metadata": {},
   "outputs": [
    {
     "name": "stdout",
     "output_type": "stream",
     "text": [
      "['a', 'c']\n",
      "['a', 'b']\n",
      "\n",
      "c o n \n",
      "迴圈結束\n",
      "迴圈執行了 4 次\n",
      "c o n e n \n",
      "迴圈結束\n",
      "迴圈執行了 7 次\n",
      "\n",
      "迴圈結束\n",
      "迴圈執行了 0 次\n"
     ]
    }
   ],
   "source": [
    "#section 2-4的一半 3-1~3-4自讀\n",
    "\n",
    "list1=['a','b']\n",
    "list2 = list1 #list2 refenence to list1\n",
    "list2[1] ='c'\n",
    "print(list1)\n",
    "\n",
    "list3=['a','b']\n",
    "list4 = list(list3)  #list4 point to a new momory address(but not list3's address)\n",
    "list4[1] ='c'\n",
    "print(list3)\n",
    "\n",
    "print(\"\")\n",
    "# #break：強制跳出 ❮整個❯ 迴圈\n",
    "count=0\n",
    "for string in 'content':\n",
    "    count+=1\n",
    "    if string == 't':\n",
    "        break\n",
    "    print(string,end=\" \")\n",
    "    \n",
    "print('\\n迴圈結束')\n",
    "print('迴圈執行了 %d 次' %count)\n",
    "# continue：強制跳出 ❮本次❯ 迴圈，繼續進入下一圈\n",
    "count=0\n",
    "for string in 'content':\n",
    "    count+=1\n",
    "    if string == 't':\n",
    "        continue\n",
    "    print(string,end=\" \")\n",
    "    \n",
    "print('\\n迴圈結束')\n",
    "print('迴圈執行了 %d 次' %count)\n",
    "\n",
    "# pass：不做任何事情，所有的程式都將繼續\n",
    "count=0\n",
    "for string in 'content':\n",
    "    count+=1\n",
    "    if string == 't':  #當偵測到字母 t 時，會忽略該條件，繼續像正常迴圈一樣運行程序：\n",
    "        pass\n",
    "    print(string,end=\" \")\n",
    "    \n",
    "print('\\n迴圈結束')\n",
    "print('迴圈執行了 %d 次' %count)"
   ]
  },
  {
   "cell_type": "code",
   "execution_count": 1,
   "id": "9801714b",
   "metadata": {},
   "outputs": [
    {
     "name": "stdout",
     "output_type": "stream",
     "text": [
      "[23, 23, 29, 34, 55, 66, 67, 78, 78, 79, 88, 89, 92, 96, 96, 100]\n"
     ]
    }
   ],
   "source": [
    "#quick sort\n",
    "data = [89, 34, 23, 78, 67, 100, 66, 29, 79, 55, 78, 88, 92, 96, 96, 23]\n",
    "\n",
    "def quicksort(data, left, right): # 輸入資料，和從兩邊開始的位置\n",
    "    if left >= right :            # 如果左邊大於右邊，就跳出function\n",
    "        return\n",
    "\n",
    "    i = left                      # 左邊的代理人\n",
    "    j = right                     # 右邊的代理人\n",
    "    key = data[left]                 # 基準點\n",
    "\n",
    "    while i != j:                  \n",
    "        while data[j] > key and i < j:   # 從右邊開始找，找比基準點小的值\n",
    "            j -= 1\n",
    "        while data[i] <= key and i < j:  # 從左邊開始找，找比基準點大的值\n",
    "            i += 1\n",
    "        if i < j:                        # 當左右代理人沒有相遇時，互換值\n",
    "            data[i], data[j] = data[j], data[i] \n",
    "\n",
    "    # 將基準點歸換至代理人相遇點\n",
    "    data[left] = data[j] \n",
    "    data[j] = key\n",
    "\n",
    "    quicksort(data, left, j-1)   # 繼續處理較小部分的子循環\n",
    "    quicksort(data, j+1, right)  # 繼續處理較大部分的子循環\n",
    "\n",
    "quicksort(data, 0, len(data)-1)\n",
    "print(data)"
   ]
  },
  {
   "cell_type": "code",
   "execution_count": 2,
   "id": "885715cb",
   "metadata": {},
   "outputs": [
    {
     "name": "stdout",
     "output_type": "stream",
     "text": [
      "[23, 23, 29, 34, 55, 66, 67, 78, 78, 79, 88, 89, 92, 96, 96, 100]\n"
     ]
    }
   ],
   "source": [
    "data = [89, 34, 23, 78, 67, 100, 66, 29, 79, 55, 78, 88, 92, 96, 96, 23]\n",
    "\n",
    "def merge(left, right):\n",
    "    result = []\n",
    "\n",
    "    while len(left) and len(right):\n",
    "        if (left[0] < right[0]):\n",
    "            result.append(left.pop(0))\n",
    "        else:\n",
    "            result.append(right.pop(0))\n",
    "\n",
    "    result = result+left if len(left) else result+right\n",
    "    return result\n",
    "\n",
    "def mergeSort(array):\n",
    "    if len(array) < 2:\n",
    "        return array\n",
    "\n",
    "    mid = len(array)//2\n",
    "    leftArray = array[:mid]\n",
    "    rightArray = array[mid:]\n",
    "\n",
    "    return merge(mergeSort(leftArray),mergeSort(rightArray))\n",
    "\n",
    "print(mergeSort(data))\n",
    "#[23, 23, 29, 34, 55, 66, 67, 78, 78, 79, 88, 89, 92, 96, 96, 100]"
   ]
  },
  {
   "cell_type": "code",
   "execution_count": 3,
   "id": "d3737605",
   "metadata": {},
   "outputs": [
    {
     "name": "stdout",
     "output_type": "stream",
     "text": [
      "[1, 2, 3, 4, 5, 6]\n"
     ]
    }
   ],
   "source": [
    "list1 = [1,2,3]\n",
    "list2 = [4,5,6]\n",
    "print(list1+list2)\n",
    "\n",
    "#list 可以相加"
   ]
  },
  {
   "cell_type": "code",
   "execution_count": null,
   "id": "8afaec6f",
   "metadata": {},
   "outputs": [],
   "source": []
  }
 ],
 "metadata": {
  "kernelspec": {
   "display_name": "Python 3 (ipykernel)",
   "language": "python",
   "name": "python3"
  },
  "language_info": {
   "codemirror_mode": {
    "name": "ipython",
    "version": 3
   },
   "file_extension": ".py",
   "mimetype": "text/x-python",
   "name": "python",
   "nbconvert_exporter": "python",
   "pygments_lexer": "ipython3",
   "version": "3.9.13"
  }
 },
 "nbformat": 4,
 "nbformat_minor": 5
}
