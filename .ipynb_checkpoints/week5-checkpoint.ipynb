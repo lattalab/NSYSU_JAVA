{
 "cells": [
  {
   "cell_type": "code",
   "execution_count": 2,
   "id": "53caf390",
   "metadata": {},
   "outputs": [],
   "source": [
    "#Today:講一下Hw4 、ch7-1、ch7-2、最好預習ch9-Class、numpy\n",
    "\n",
    "#物件導向要data hiding\n",
    "#instance :某個class中的範例\n",
    "#def __init__(self):  (#compared to C language,it is a constructor)\n",
    "#def __str__(self): (#返回這個instance的描述訊息)\n",
    "#mutater: set function\n",
    "#accessor: get function\n",
    "#這時候如果我們想在子類別中執行父類別的方法(Method)時，則可以使用super()內建方法來達成\n",
    "#https://www.learncodewithmike.com/2020/01/python-class.html\n",
    "#https://www.learncodewithmike.com/2020/01/python-inheritance.html\n",
    "#https://www.learncodewithmike.com/2020/01/python-polymorphism.html\n",
    "\n",
    "#numpy 是一個重要的套件，來做向量的運算"
   ]
  },
  {
   "cell_type": "code",
   "execution_count": null,
   "id": "4c31c787",
   "metadata": {},
   "outputs": [],
   "source": []
  }
 ],
 "metadata": {
  "kernelspec": {
   "display_name": "Python 3 (ipykernel)",
   "language": "python",
   "name": "python3"
  },
  "language_info": {
   "codemirror_mode": {
    "name": "ipython",
    "version": 3
   },
   "file_extension": ".py",
   "mimetype": "text/x-python",
   "name": "python",
   "nbconvert_exporter": "python",
   "pygments_lexer": "ipython3",
   "version": "3.9.13"
  }
 },
 "nbformat": 4,
 "nbformat_minor": 5
}
