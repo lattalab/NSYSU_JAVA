{
 "cells": [
  {
   "cell_type": "code",
   "execution_count": 1,
   "id": "755ea353",
   "metadata": {},
   "outputs": [
    {
     "name": "stdout",
     "output_type": "stream",
     "text": [
      "Enter a, or b or c: d\n",
      "Unacceptable Key. Enter a, b , or c.\n",
      "Enter a, or b or c: d\n",
      "Unacceptable Key. Enter a, b , or c.\n",
      "Enter a, or b or c: g\n",
      "Unacceptable Key. Enter a, b , or c.\n",
      "Enter a, or b or c: a\n",
      "alpha\n"
     ]
    }
   ],
   "source": [
    "#today: section6-1: try-except\n",
    "# except(要抓錯誤訊息)\n",
    "\n",
    "#Example2:\n",
    "p = {\"a\":\"alpha\" , \"b\":\"bravo\" , \"c\":\"charile\"}\n",
    "while True:\n",
    "    try:\n",
    "        letter = input(\"Enter a, or b or c: \")\n",
    "        print(p[letter])\n",
    "        break #一直try，有try到成功就會結束迴圈\n",
    "    except KeyError:\n",
    "        print(\"Unacceptable Key. Enter a, b , or c.\")\n",
    "        \n",
    "#else 表示完全沒有錯誤，就會執行該區塊的程式，finally 則不論程式對錯，都會執行該區塊的程式。"
   ]
  },
  {
   "cell_type": "code",
   "execution_count": 2,
   "id": "c73f8409",
   "metadata": {},
   "outputs": [],
   "source": [
    "#today: section6-2: random\n",
    "\n",
    "#Example 1\n",
    "#random.choice :在一個list中隨便挑一個元素\n",
    "#random.sample (list , k): 從list中取出k個，並回傳新的list\n",
    "#random.shuffle :打亂list中的元素\n",
    "#Python random.randint() return指定範圍中的變數\n",
    "#PS:randint(start, stop) 等於 randrange(start, stop+1)。"
   ]
  },
  {
   "cell_type": "code",
   "execution_count": 2,
   "id": "e0d842a7",
   "metadata": {},
   "outputs": [],
   "source": [
    "#today: section6-2: random\n",
    "\n",
    "#Example 1\n",
    "#random.choice :在一個list中隨便挑一個元素\n",
    "#random.sample (list , k): 從list中取出k個，並回傳新的list\n",
    "#random.shuffle :打亂list中的元素\n",
    "#Python random.randint() return指定範圍中的變數\n",
    "#PS:randint(start, stop) 等於 randrange(start, stop+1)。"
   ]
  },
  {
   "cell_type": "code",
   "execution_count": 3,
   "id": "9eda5e62",
   "metadata": {},
   "outputs": [],
   "source": [
    "#today: section6-3: turtle\n",
    "#:待補"
   ]
  },
  {
   "cell_type": "code",
   "execution_count": null,
   "id": "c4fdeddf",
   "metadata": {},
   "outputs": [],
   "source": [
    "#today: section6-4: recursion\n",
    "#and continue with ch4.Numpy\n",
    "#and continue with ch5.Pandas"
   ]
  }
 ],
 "metadata": {
  "kernelspec": {
   "display_name": "Python 3 (ipykernel)",
   "language": "python",
   "name": "python3"
  },
  "language_info": {
   "codemirror_mode": {
    "name": "ipython",
    "version": 3
   },
   "file_extension": ".py",
   "mimetype": "text/x-python",
   "name": "python",
   "nbconvert_exporter": "python",
   "pygments_lexer": "ipython3",
   "version": "3.9.13"
  }
 },
 "nbformat": 4,
 "nbformat_minor": 5
}
