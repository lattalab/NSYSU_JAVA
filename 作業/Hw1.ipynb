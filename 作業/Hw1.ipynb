{
 "cells": [
  {
   "cell_type": "code",
   "execution_count": 78,
   "id": "34713d3f",
   "metadata": {},
   "outputs": [
    {
     "name": "stdout",
     "output_type": "stream",
     "text": [
      "Enter course name> Object-Oriented Programming\n",
      "Enter minimum average required> 79.5\n",
      "Enter current average in course> 74.6\n",
      "Enter how much the final counts as a percentage of the course grade> 25\n",
      "\n",
      "You need a score of 94.20 on the final to pass 'Object-Oriented Programming'.\n"
     ]
    }
   ],
   "source": [
    "#problem 1\n",
    "course = input(\"Enter course name> \")\n",
    "Pass = float(input(\"Enter minimum average required> \"))\n",
    "current = float(input(\"Enter current average in course> \"))\n",
    "per = float(input(\"Enter how much the final counts as a percentage of the course grade> \"))\n",
    "print(\"\")\n",
    "final = (Pass - current* ((100-per)/100) )/(per/100)\n",
    "print(\"You need a score of {0:.2f} on the final to pass \\'{1:s}\\'.\".format(final,course))"
   ]
  },
  {
   "cell_type": "code",
   "execution_count": 22,
   "id": "f1ae38c8",
   "metadata": {},
   "outputs": [
    {
     "name": "stdout",
     "output_type": "stream",
     "text": [
      "Enter string> Doge to the moon!\n",
      "\n",
      "The first word is 'Doge' with length 4.\n",
      "The last word is 'moon!' with length 5.\n"
     ]
    }
   ],
   "source": [
    "#problem 2\n",
    "\n",
    "str = input(\"Enter string> \")\n",
    "first_end = int(str.find(' '))  #利用find()找到第一個單字的結尾\n",
    "last_start = int(str.rfind(' ')) #利用rfind() 找到整句話最後一個空白(最後一個單字的頭)\n",
    "print(\"\")\n",
    "#利用字串分割 和 print format印出題目要求\n",
    "print(\"The first word is \\'{0:s}\\' with length {1:d}.\".format(str[:first_end],len(str[:first_end])))\n",
    "print(\"The last word is \\'{0:s}\\' with length {1:d}.\".format(str[last_start+1:],len(str[last_start+1:])))"
   ]
  },
  {
   "cell_type": "code",
   "execution_count": 28,
   "id": "38e8aed0",
   "metadata": {},
   "outputs": [
    {
     "name": "stdout",
     "output_type": "stream",
     "text": [
      "list = [10, 20, [300, 400, [5000, 6000], 500], 40, 30]\n",
      "\n",
      "Add 7000 after 6000: [10, 20, [300, 400, [5000, 6000, 7000], 500], 40, 30]\n",
      "Add 600 before 500: [10, 20, [300, 400, [5000, 6000, 7000], 600, 500], 40, 30]\n"
     ]
    }
   ],
   "source": [
    "#problem 3\n",
    "list = [10, 20, [300, 400, [5000, 6000], 500], 40, 30]\n",
    "print(\"list =\",list)\n",
    "print(\"\")\n",
    "list[2][2].append(7000) #append()為在最後面加入元素\n",
    "print(\"Add 7000 after 6000: {}\".format(list))\n",
    "list[2].insert(3,600)  #insert()為在指定位置加入元素\n",
    "print(\"Add 600 before 500: {}\".format(list))"
   ]
  },
  {
   "cell_type": "code",
   "execution_count": 62,
   "id": "0a33055f",
   "metadata": {},
   "outputs": [
    {
     "name": "stdout",
     "output_type": "stream",
     "text": [
      "list = ['a', 'b', ['c', ['d', 'e', ['f', 'g'], 'k'], 'l'], 'm', 'n']\n",
      "sub_list = ['h', 'i', 'j']\n",
      "\n",
      "new list1 = ['a', 'b', ['c', ['d', 'e', ['f', 'g', 'h', 'i', 'j'], 'k'], 'l'], 'm', 'n']\n",
      "new list2 = ['a', 'b', ['c', ['d', 'e', ['f', 'g', ['h', 'i', 'j']], 'k'], 'l'], 'm', 'n']\n"
     ]
    }
   ],
   "source": [
    "#problem 4\n",
    "listx = ['a', 'b', ['c', ['d', 'e', ['f', 'g'], 'k'], 'l'], 'm', 'n']\n",
    "sub_list = ['h', 'i', 'j']\n",
    "print(\"list =\",listx)\n",
    "print(\"sub_list =\",sub_list)\n",
    "print(\"\")\n",
    "listx[2][1][2].extend(sub_list) #extend將每個元素加入\n",
    "print(\"new list1 =\",listx)\n",
    "\n",
    "listx[2][1][2].pop()\n",
    "listx[2][1][2].pop()\n",
    "listx[2][1][2].pop()\n",
    "#先3個pop()變回原本的list\n",
    "listx[2][1][2].append(sub_list) #append加入一個list\n",
    "print(\"new list2 =\",listx)"
   ]
  },
  {
   "cell_type": "code",
   "execution_count": 79,
   "id": "5ca772f2",
   "metadata": {},
   "outputs": [
    {
     "name": "stdout",
     "output_type": "stream",
     "text": [
      "Enter number of people> 3\n",
      "\n",
      "(1) Enter name> Vivian\n",
      "(1) Enter Vivian's height(cm)> 155\n",
      "(1) Enter Vivian's weight(kg)> 42\n",
      "\n",
      "All data: [['Vivian', 155.0, 42.0]]\n",
      "\n",
      "(2) Enter name> rex\n",
      "(2) Enter rex's height(cm)> 160\n",
      "(2) Enter rex's weight(kg)> 50\n",
      "\n",
      "All data: [['Vivian', 155.0, 42.0], ['Rex', 160.0, 50.0]]\n",
      "\n",
      "(3) Enter name> Henry smith\n",
      "(3) Enter Henry smith's height(cm)> 170\n",
      "(3) Enter Henry smith's weight(kg)> 85\n",
      "\n",
      "All data: [['Vivian', 155.0, 42.0], ['Rex', 160.0, 50.0], ['Henry Smith', 170.0, 85.0]]\n",
      "\n",
      "============================================\n",
      "\n",
      "Vivian's BMI is 17.5.\n",
      "Vivian is underweight.\n",
      "\n",
      "Rex's BMI is 19.5.\n",
      "Rex maintains optimal body weight.\n",
      "\n",
      "Henry Smith's BMI is 29.4.\n",
      "Henry Smith is overweight.\n",
      "\n"
     ]
    }
   ],
   "source": [
    "#problem 5\n",
    "x = int(input(\"Enter number of people> \"))\n",
    "listx = []\n",
    "print(\"\")\n",
    "for i in range(0,x):\n",
    "    print(\"({}) Enter name>\".format(i+1),end=\" \")\n",
    "    name = input()\n",
    "    print(\"({}) Enter {}\\'s height(cm)>\".format(i+1,name),end=\" \")\n",
    "    height = float(input())\n",
    "    print(\"({}) Enter {}\\'s weight(kg)>\".format(i+1,name),end=\" \")\n",
    "    weight = float(input())\n",
    "    print(\"\")\n",
    "    listx.append([name.title(),height,weight])\n",
    "    print(\"All data:\",listx)\n",
    "    print(\"\")\n",
    "\n",
    "print(\"============================================\")\n",
    "print(\"\")\n",
    "for j in range(0,x):\n",
    "    bmi = float(( listx[j][2]/(listx[j][1]/100)/(listx[j][1]/100) ))\n",
    "    print(\"{0:s}\\'s BMI is {1:.1f}.\".format(listx[j][0], bmi ))\n",
    "    if bmi<18.5 :\n",
    "        print(\"{} is underweight.\".format(listx[j][0]))\n",
    "    elif bmi>=18.5 and bmi<25 :\n",
    "        print(\"{} maintains optimal body weight.\".format(listx[j][0]))\n",
    "    else:\n",
    "        print(\"{} is overweight.\".format(listx[j][0]))\n",
    "    print(\"\")"
   ]
  },
  {
   "cell_type": "code",
   "execution_count": null,
   "id": "e733594f",
   "metadata": {},
   "outputs": [],
   "source": []
  }
 ],
 "metadata": {
  "kernelspec": {
   "display_name": "Python 3 (ipykernel)",
   "language": "python",
   "name": "python3"
  },
  "language_info": {
   "codemirror_mode": {
    "name": "ipython",
    "version": 3
   },
   "file_extension": ".py",
   "mimetype": "text/x-python",
   "name": "python",
   "nbconvert_exporter": "python",
   "pygments_lexer": "ipython3",
   "version": "3.9.13"
  }
 },
 "nbformat": 4,
 "nbformat_minor": 5
}
