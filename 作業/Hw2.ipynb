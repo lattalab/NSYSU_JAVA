{
 "cells": [
  {
   "cell_type": "code",
   "execution_count": 65,
   "id": "bca606b2",
   "metadata": {},
   "outputs": [
    {
     "name": "stdout",
     "output_type": "stream",
     "text": [
      "Enter a positive integer > 20\n",
      "prime : [2, 3, 5, 7, 11, 13, 17, 19]\n"
     ]
    }
   ],
   "source": [
    "#problem 1\n",
    "num = int(input(\"Enter a positive integer > \")) #enter a positive number\n",
    "prime = [] # A empty list\n",
    "\n",
    "#find prime number below\n",
    "for i in range(2,num+1):  #1~num的數字範圍\n",
    "    isprime = bool(True)   #help to identify the prime number or not\n",
    "    for j in range(2,i):   #在2~該數-1的範圍看有沒有其他因數(1跟 它自己以外)\n",
    "        if i==2 :\n",
    "            prime.append(i) #because 2 is prime number\n",
    "        \n",
    "        if ((i%j)==0):   #有其他因數代表不是prime number\n",
    "            isprime = bool(0)\n",
    "            break;\n",
    "    if isprime:\n",
    "        prime.append(i)\n",
    "    \n",
    "print(\"prime :\" , prime)"
   ]
  },
  {
   "cell_type": "code",
   "execution_count": 75,
   "id": "4071ffe2",
   "metadata": {},
   "outputs": [
    {
     "name": "stdout",
     "output_type": "stream",
     "text": [
      "Enter multiple integers, separated by commas >10,20,30\n",
      "\n",
      "factor of 10 : [1, 2, 5, 10]\n",
      "The sum of the factors of 10 : 18\n",
      "\n",
      "factor of 20 : [1, 2, 4, 5, 10, 20]\n",
      "The sum of the factors of 20 : 42\n",
      "\n",
      "factor of 30 : [1, 2, 3, 5, 6, 10, 15, 30]\n",
      "The sum of the factors of 30 : 72\n",
      "\n"
     ]
    }
   ],
   "source": [
    "#problem 2\n",
    "string = input(\"Enter multiple integers, separated by commas >\")\n",
    "l = string.split(\",\") #將str以逗號為分界點，分出好幾個數字，並轉成list，但list的內容還是字串\n",
    "print(\"\")\n",
    "\n",
    "for i in range(len(l)):\n",
    "    factor = [] #empty list\n",
    "    for f in range(1 , eval(l[i])+1):\n",
    "        if ( ( eval(l[i]) %f ) == 0):\n",
    "            factor.append(f)\n",
    "    print(\"factor of {0:d} : {1}\".format(eval(l[i]) , factor) )\n",
    "    print(\"The sum of the factors of {0:d} : {1:d}\".format(eval(l[i]), sum(factor)))\n",
    "    print(\"\")"
   ]
  },
  {
   "cell_type": "code",
   "execution_count": 31,
   "id": "ac96537f",
   "metadata": {},
   "outputs": [
    {
     "name": "stdout",
     "output_type": "stream",
     "text": [
      "Enter the string > hello world, hello python.\n",
      "Enter the substring >hello\n",
      "\n",
      "The number of times the substring appears in the string is 2 times.\n"
     ]
    }
   ],
   "source": [
    "#problem 3\n",
    "mainstr = input(\"Enter the string > \")\n",
    "substr = input(\"Enter the substring >\")\n",
    "print(\"\")\n",
    "\n",
    "i = int(0)\n",
    "count = int(0)\n",
    "time = int(0)\n",
    "while i<len(mainstr) and count < len(substr): #跑main string 還有盡量不要超過substring的邊界\n",
    "    if mainstr[i]==substr[count]: #先看開頭有沒有一樣\n",
    "        count+=1\n",
    "        if (count== (len(substr))): #完全一樣的時候\n",
    "            time+=1\n",
    "            count=0\n",
    "    else:\n",
    "        if count>0:  #過程中有不一樣的，歸零\n",
    "            count=0\n",
    "    i+=1\n",
    "\n",
    "print(\"The number of times the substring appears in the string is {} times.\".format(time))"
   ]
  },
  {
   "cell_type": "code",
   "execution_count": 76,
   "id": "00737963",
   "metadata": {},
   "outputs": [
    {
     "name": "stdout",
     "output_type": "stream",
     "text": [
      "Enter the height > 5\n",
      "\n",
      "* * * * * \n",
      " * * * * \n",
      "  * * * \n",
      "   * * \n",
      "    * \n",
      "    * \n",
      "   * * \n",
      "  * * * \n",
      " * * * * \n",
      "* * * * * \n"
     ]
    }
   ],
   "source": [
    "#problem 4\n",
    "num = int(input(\"Enter the height > \"))\n",
    "print(\"\")\n",
    "for upper in range(num):   #上半部\n",
    "    space = int(upper)\n",
    "    while space:\n",
    "        print(\" \",end=\"\")\n",
    "        space-=1\n",
    "    for star in range(num-upper,0,-1):\n",
    "        print(\"*\" , end=\" \")\n",
    "    print()\n",
    "    \n",
    "for below in range(num):  #下半部\n",
    "    space = num-int(below)-1\n",
    "    while space:\n",
    "        print(\" \",end=\"\")\n",
    "        space-=1\n",
    "    for star in range(below+1):\n",
    "        print(\"*\" , end=\" \")\n",
    "    print()"
   ]
  },
  {
   "cell_type": "code",
   "execution_count": 55,
   "id": "7815c476",
   "metadata": {},
   "outputs": [
    {
     "name": "stdout",
     "output_type": "stream",
     "text": [
      "Please enter the start year > 2001\n",
      "Please enter the end year > 2015\n",
      "\n",
      "Between 2001 to 2015, there is(are) 3 leap year(s).\n"
     ]
    }
   ],
   "source": [
    "#problem 5\n",
    "y1 = int(input(\"Please enter the start year > \"))\n",
    "y2 = int(input(\"Please enter the end year > \"))\n",
    "print(\"\")\n",
    "leap = int(0)\n",
    "\n",
    "for x in range(y2-y1+1):\n",
    "    y = y1+x\n",
    "    if ((y%4)==0) and ((y%100) != 0): #被4整除，但不被100整除\n",
    "        leap+=1\n",
    "    elif ((y%4)==0) and ((y%100) == 0): #被400整除\n",
    "        leap+=1\n",
    "\n",
    "print(\"Between {0:d} to {1:d}, there is(are) {2:d} leap year(s).\".format(y1,y2,leap))"
   ]
  },
  {
   "cell_type": "code",
   "execution_count": null,
   "id": "522a2426",
   "metadata": {},
   "outputs": [],
   "source": []
  }
 ],
 "metadata": {
  "kernelspec": {
   "display_name": "Python 3 (ipykernel)",
   "language": "python",
   "name": "python3"
  },
  "language_info": {
   "codemirror_mode": {
    "name": "ipython",
    "version": 3
   },
   "file_extension": ".py",
   "mimetype": "text/x-python",
   "name": "python",
   "nbconvert_exporter": "python",
   "pygments_lexer": "ipython3",
   "version": "3.9.13"
  }
 },
 "nbformat": 4,
 "nbformat_minor": 5
}
