{
 "cells": [
  {
   "cell_type": "code",
   "execution_count": 21,
   "id": "2a42d0af",
   "metadata": {},
   "outputs": [],
   "source": [
    "from numpy import *\n",
    "my_arr = arange(1_000_000)"
   ]
  },
  {
   "cell_type": "code",
   "execution_count": 17,
   "id": "1055541d",
   "metadata": {},
   "outputs": [
    {
     "name": "stdout",
     "output_type": "stream",
     "text": [
      "{'apple': 2042, 'orange': 1978, 'lemon': 2008, 'graft': 1989, 'banana': 1983}\n"
     ]
    }
   ],
   "source": [
    "from random import *\n",
    "fruit=['apple','orange','lemon','graft','banana']\n",
    "fruitlist = [fruit[randrange(5)] for i in range(10_000)]\n",
    "#fruitlist = [choice(fruit) for i in range(10_000)]\n",
    "count={x:fruitlist.count(x) for x in fruit}\n",
    "print(count)"
   ]
  },
  {
   "cell_type": "code",
   "execution_count": 13,
   "id": "c3e963e1",
   "metadata": {},
   "outputs": [
    {
     "name": "stdout",
     "output_type": "stream",
     "text": [
      "30\n"
     ]
    }
   ],
   "source": [
    "x=10\n",
    "y=20 if x<5 else 30\n",
    "# y = (x<5)? 20:30\n",
    "print(y)"
   ]
  },
  {
   "cell_type": "code",
   "execution_count": 14,
   "id": "c0c783d6",
   "metadata": {},
   "outputs": [
    {
     "name": "stdout",
     "output_type": "stream",
     "text": [
      "lemon\n",
      "{'apple': 1995, 'orange': 2006, 'lemon': 2075, 'graft': 1955, 'banana': 1969}\n"
     ]
    }
   ],
   "source": [
    "from random import randrange, choice\n",
    "fruit=['apple','orange','lemon','graft','banana']\n",
    "print(choice(fruit))\n",
    "#count={x:fruitlist.count(x) for x in fruit} if len(fruitlist := [fruit[randrange(5)] for i in range(1_000)])>0 else {}\n",
    "count={x:fruitlist.count(x) for x in fruit} if len(fruitlist := [choice(fruit) for i in range(10_000)])>0 else {}\n",
    "print(count)"
   ]
  },
  {
   "cell_type": "code",
   "execution_count": 19,
   "id": "afba4f7e",
   "metadata": {},
   "outputs": [
    {
     "name": "stdout",
     "output_type": "stream",
     "text": [
      "Defaulting to user installation because normal site-packages is not writeable\n",
      "Requirement already satisfied: numpy in c:\\programdata\\anaconda3\\lib\\site-packages (1.21.5)\n",
      "Requirement already satisfied: scipy in c:\\programdata\\anaconda3\\lib\\site-packages (1.9.1)\n",
      "Requirement already satisfied: pandas in c:\\programdata\\anaconda3\\lib\\site-packages (1.4.4)\n",
      "Requirement already satisfied: statsmodels in c:\\programdata\\anaconda3\\lib\\site-packages (0.13.2)\n",
      "Requirement already satisfied: python-dateutil>=2.8.1 in c:\\programdata\\anaconda3\\lib\\site-packages (from pandas) (2.8.2)\n",
      "Requirement already satisfied: pytz>=2020.1 in c:\\programdata\\anaconda3\\lib\\site-packages (from pandas) (2022.1)\n",
      "Requirement already satisfied: patsy>=0.5.2 in c:\\programdata\\anaconda3\\lib\\site-packages (from statsmodels) (0.5.2)\n",
      "Requirement already satisfied: packaging>=21.3 in c:\\programdata\\anaconda3\\lib\\site-packages (from statsmodels) (21.3)\n",
      "Requirement already satisfied: pyparsing!=3.0.5,>=2.0.2 in c:\\programdata\\anaconda3\\lib\\site-packages (from packaging>=21.3->statsmodels) (3.0.9)\n",
      "Requirement already satisfied: six in c:\\programdata\\anaconda3\\lib\\site-packages (from patsy>=0.5.2->statsmodels) (1.16.0)\n"
     ]
    }
   ],
   "source": [
    "!pip install numpy scipy pandas statsmodels"
   ]
  },
  {
   "cell_type": "code",
   "execution_count": 6,
   "id": "7601e95f",
   "metadata": {},
   "outputs": [
    {
     "name": "stdout",
     "output_type": "stream",
     "text": [
      "[0, 1, 2, 3, 4]\n",
      "0\n"
     ]
    }
   ],
   "source": [
    "import random\n",
    "Alist = list(range(5))\n",
    "print(Alist)\n",
    "print(random.choice(Alist))"
   ]
  },
  {
   "cell_type": "code",
   "execution_count": null,
   "id": "4db75fdf",
   "metadata": {},
   "outputs": [],
   "source": []
  }
 ],
 "metadata": {
  "kernelspec": {
   "display_name": "Python 3 (ipykernel)",
   "language": "python",
   "name": "python3"
  },
  "language_info": {
   "codemirror_mode": {
    "name": "ipython",
    "version": 3
   },
   "file_extension": ".py",
   "mimetype": "text/x-python",
   "name": "python",
   "nbconvert_exporter": "python",
   "pygments_lexer": "ipython3",
   "version": "3.9.13"
  }
 },
 "nbformat": 4,
 "nbformat_minor": 5
}
