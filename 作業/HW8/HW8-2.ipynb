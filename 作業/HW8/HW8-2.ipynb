{
 "cells": [
  {
   "cell_type": "code",
   "execution_count": 1,
   "metadata": {},
   "outputs": [],
   "source": [
    "# Topic: register an account, log in, and log out.\n",
    "# implemented by create a new app(名字叫accounts)\n",
    "# Since we created a new app, we need to include this app to INSTALLED_APPS in settings.py(ll_project)\n",
    "\n",
    "# reminder:\n",
    "# 1. Mapping a URL -> 2. Writing a View -> 3. Writing a Template\n",
    "# new app -> create a new urls.py in ll_project/accounts\n",
    "#         -> create a new template folder\n",
    "# (Note that a template in one app can inherit from a template in another app.)\n",
    "# Including the URLs from accounts"
   ]
  },
  {
   "cell_type": "code",
   "execution_count": 2,
   "metadata": {},
   "outputs": [],
   "source": [
    "# The Login Page\n",
    "# The login Template\n",
    "# The LOGIN_REDIRECT_URL Settting\n",
    "# we can redirect the url in settings.py (ll_project)\n",
    "\n",
    "# Linking to the Login Page\n",
    "# Using the Login Page\n",
    "# Login Page: http://localhost:8000/accounts/login/"
   ]
  },
  {
   "cell_type": "code",
   "execution_count": 5,
   "metadata": {},
   "outputs": [
    {
     "data": {
      "text/html": [
       "<img src=\"./loginTest-figure19-4.PNG\", width=400 height=280>\n",
       "# 現在能登陸 的圖片\n"
      ],
      "text/plain": [
       "<IPython.core.display.HTML object>"
      ]
     },
     "metadata": {},
     "output_type": "display_data"
    }
   ],
   "source": [
    "%%html\n",
    "<img src=\"./loginTest-figure19-4.PNG\", width=400 height=280>\n",
    "# 現在能登陸 的圖片"
   ]
  },
  {
   "cell_type": "code",
   "execution_count": 4,
   "metadata": {},
   "outputs": [],
   "source": [
    "# Adding a Logout Form to base.html\n",
    "# We’ll add the form for logging out to base.html so it’s available on every page.\n",
    "\n",
    "# The LOGOUT_REDIRECT_URL Setting (settings.py)\n",
    "\n",
    "# The Registration Page (註冊功能):\n",
    "# The register URL\n",
    "# The register() View Function\n",
    "# The register Template\n",
    "# Linking to the Registration Page"
   ]
  },
  {
   "cell_type": "code",
   "execution_count": 14,
   "metadata": {},
   "outputs": [
    {
     "data": {
      "text/html": [
       "<img src=\"./LoginSuccessfully.PNG\", width=400 height=280>\n",
       "# 現在成功登陸 的圖片\n"
      ],
      "text/plain": [
       "<IPython.core.display.HTML object>"
      ]
     },
     "metadata": {},
     "output_type": "display_data"
    }
   ],
   "source": [
    "%%html\n",
    "<img src=\"./LoginSuccessfully.PNG\", width=400 height=280>\n",
    "# 現在成功登陸 的圖片"
   ]
  },
  {
   "cell_type": "code",
   "execution_count": 16,
   "metadata": {},
   "outputs": [
    {
     "data": {
      "text/html": [
       "<img src=\"./AddLogOut.PNG\", width=400 height=280>\n",
       "# 現在能登出 的圖片\n"
      ],
      "text/plain": [
       "<IPython.core.display.HTML object>"
      ]
     },
     "metadata": {},
     "output_type": "display_data"
    }
   ],
   "source": [
    "%%html\n",
    "<img src=\"./AddLogOut.PNG\", width=400 height=280>\n",
    "# 現在能登出 的圖片"
   ]
  },
  {
   "cell_type": "code",
   "execution_count": 17,
   "metadata": {},
   "outputs": [
    {
     "data": {
      "text/html": [
       "<img src=\"./RegisterPage.PNG\", width=400 height=280>\n",
       "# 現在能登出 的圖片\n"
      ],
      "text/plain": [
       "<IPython.core.display.HTML object>"
      ]
     },
     "metadata": {},
     "output_type": "display_data"
    }
   ],
   "source": [
    "%%html\n",
    "<img src=\"./RegisterPage.PNG\", width=400 height=280>\n",
    "# 現在能註冊 的圖片"
   ]
  },
  {
   "cell_type": "code",
   "execution_count": 19,
   "metadata": {},
   "outputs": [],
   "source": [
    "# Allowing Users to Own Their Data\n",
    "# since we have an account, we need to define the data belongs to which user\n",
    "\n",
    "# Restricting Access with @login_required\n",
    "# -Restricting Access to the Topics Page\n",
    "# 藉由加入decorator function 去限制功能 (此例為要登陸才能查看Topic)\n",
    "# If the user isn’t logged in, they’re redirected to the login page.\n",
    "# To make this redirect work, we need to modify settings.py so Django knows where to find the login page. \n",
    "# Add the following at the end of settings.py"
   ]
  },
  {
   "cell_type": "code",
   "execution_count": 20,
   "metadata": {},
   "outputs": [],
   "source": [
    "# Restricting Access Throughout Learning Log\n",
    "# 並不是所有網頁都要被限制\n",
    "\n",
    "# Connecting Data to Certain Users\n",
    "# In this example, We’ll modify the Topic model by adding a foreign key relationship to a user.\n",
    "# (有點像把entries連結到Topic的過程)\n",
    "\n",
    "# Migrating the DataBase\n",
    "# 將現有的資料跟現有帳戶做連結\n",
    "\n",
    "# Restricting Topics Access to Appropriate Users\n",
    "# 限制每個用戶能看到的東西\n",
    "\n",
    "# Protecting a user's Topic\n",
    "# 如果該用戶想要查看不屬於他的資料 會被限制住 不能查看\n",
    "\n",
    "# Protecting the edit_entry Page\n",
    "# 不能用直接進入網址的方式修改entries (必須要登陸)\n",
    "\n",
    "# Associating New Topics with the Current User\n",
    "# 之前是已經有那些資料的情況下，指派給用戶\n",
    "# 現在是已經有用戶，該用戶要新增資料"
   ]
  },
  {
   "cell_type": "code",
   "execution_count": 23,
   "metadata": {},
   "outputs": [
    {
     "data": {
      "text/html": [
       "<img src=\"./限制存取.PNG\", width=500 height=280>\n",
       "# 新用戶不能存取到不屬於它的資料\n"
      ],
      "text/plain": [
       "<IPython.core.display.HTML object>"
      ]
     },
     "metadata": {},
     "output_type": "display_data"
    }
   ],
   "source": [
    "%%html\n",
    "<img src=\"./限制存取.PNG\", width=500 height=280>\n",
    "# 新用戶不能存取到不屬於它的資料"
   ]
  },
  {
   "cell_type": "code",
   "execution_count": null,
   "metadata": {},
   "outputs": [],
   "source": []
  }
 ],
 "metadata": {
  "kernelspec": {
   "display_name": "base",
   "language": "python",
   "name": "python3"
  },
  "language_info": {
   "codemirror_mode": {
    "name": "ipython",
    "version": 3
   },
   "file_extension": ".py",
   "mimetype": "text/x-python",
   "name": "python",
   "nbconvert_exporter": "python",
   "pygments_lexer": "ipython3",
   "version": "3.9.13"
  },
  "orig_nbformat": 4
 },
 "nbformat": 4,
 "nbformat_minor": 2
}
