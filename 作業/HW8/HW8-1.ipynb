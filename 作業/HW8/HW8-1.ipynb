{
 "cells": [
  {
   "cell_type": "code",
   "execution_count": 1,
   "metadata": {},
   "outputs": [],
   "source": [
    "# Topic: add user account to interact with data\n",
    "# in previous homework, we just use \"superuser account\" to interact with data by admin site.\n",
    "\n",
    "# Any page that lets a user enter and submit information on a web page involves an HTML element called a form.\n",
    "\n",
    "# reminder:\n",
    "# 1. Mapping a URL -> 2. Writing a View -> 3. Writing a Template"
   ]
  },
  {
   "cell_type": "code",
   "execution_count": 3,
   "metadata": {},
   "outputs": [
    {
     "data": {
      "text/html": [
       "<img src=\"./NewTopicTest-figure19.1.PNG\", width=400 height=280>\n",
       "# 現在能建立 new topic 的圖片\n"
      ],
      "text/plain": [
       "<IPython.core.display.HTML object>"
      ]
     },
     "metadata": {},
     "output_type": "display_data"
    }
   ],
   "source": [
    "%%html\n",
    "<img src=\"./NewTopicTest-figure19.1.PNG\", width=400 height=280>\n",
    "# 現在能建立 new topic 的圖片"
   ]
  },
  {
   "cell_type": "code",
   "execution_count": 4,
   "metadata": {},
   "outputs": [
    {
     "data": {
      "text/html": [
       "<img src=\"./NewEntryTest-figure19-2.PNG\", width=400 height=280>\n",
       "# 現在能建立 new entries 的圖片\n"
      ],
      "text/plain": [
       "<IPython.core.display.HTML object>"
      ]
     },
     "metadata": {},
     "output_type": "display_data"
    }
   ],
   "source": [
    "%%html\n",
    "<img src=\"./NewEntryTest-figure19-2.PNG\", width=400 height=280>\n",
    "# 現在能建立 new entries 的圖片"
   ]
  },
  {
   "cell_type": "code",
   "execution_count": 14,
   "metadata": {},
   "outputs": [
    {
     "data": {
      "text/html": [
       "<img src=\"./EditEntryTest-figure19-3.PNG\", width=450 height=350>\n",
       "# 現在能編輯 entries 的圖片\n"
      ],
      "text/plain": [
       "<IPython.core.display.HTML object>"
      ]
     },
     "metadata": {},
     "output_type": "display_data"
    }
   ],
   "source": [
    "%%html\n",
    "<img src=\"./EditEntryTest-figure19-3.PNG\", width=450 height=350>\n",
    "# 現在能編輯 entries 的圖片"
   ]
  },
  {
   "cell_type": "code",
   "execution_count": null,
   "metadata": {},
   "outputs": [],
   "source": []
  }
 ],
 "metadata": {
  "kernelspec": {
   "display_name": "base",
   "language": "python",
   "name": "python3"
  },
  "language_info": {
   "codemirror_mode": {
    "name": "ipython",
    "version": 3
   },
   "file_extension": ".py",
   "mimetype": "text/x-python",
   "name": "python",
   "nbconvert_exporter": "python",
   "pygments_lexer": "ipython3",
   "version": "3.9.13"
  },
  "orig_nbformat": 4
 },
 "nbformat": 4,
 "nbformat_minor": 2
}
