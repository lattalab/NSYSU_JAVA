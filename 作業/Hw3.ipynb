{
 "cells": [
  {
   "cell_type": "code",
   "execution_count": 96,
   "id": "2ccff8f0",
   "metadata": {},
   "outputs": [
    {
     "name": "stdout",
     "output_type": "stream",
     "text": [
      "Enter the word or integer> 121\n",
      "The answer of 121 is a palindrome.\n",
      "\n",
      "Enter the word or integer> madam\n",
      "The answer of madam is a palindrome.\n",
      "\n",
      "Enter the word or integer> Anns\n",
      "The answer of Anns is not a palindrome.\n",
      "\n"
     ]
    }
   ],
   "source": [
    "#problem 1\n",
    "\n",
    "def is_palindrome(var):\n",
    "    #對一個word往中間切一半，並判斷左右是否一致\n",
    "    length = len(var)\n",
    "    mid = length//2\n",
    "    pal = bool(1)\n",
    "    for i in range(mid): \n",
    "        if (var[i] != var[length-1-i]):\n",
    "            pal = bool(0)\n",
    "            break\n",
    "    return pal\n",
    "\n",
    "for i in range(3):\n",
    "    x = input(\"Enter the word or integer> \")\n",
    "    flag = is_palindrome(x)\n",
    "    if flag:\n",
    "        print(\"The answer of {:s} is a palindrome.\".format(x))\n",
    "    else :\n",
    "        print(\"The answer of {:s} is not a palindrome.\".format(x)) \n",
    "    print()"
   ]
  },
  {
   "cell_type": "code",
   "execution_count": 97,
   "id": "60515b53",
   "metadata": {},
   "outputs": [
    {
     "name": "stdout",
     "output_type": "stream",
     "text": [
      "Enter the integer(must >3 ) > 9\n",
      "The answer is: 34\n",
      "\n",
      "Enter the integer(must >3 ) > 11\n",
      "The answer is: 89\n",
      "\n"
     ]
    }
   ],
   "source": [
    "#problem 2\n",
    "\n",
    "def Fibonacci(n):\n",
    "    first = 0\n",
    "    second = 1\n",
    "    temp = 0\n",
    "    if n<2:\n",
    "        return n\n",
    "    else :\n",
    "        for i in range(n-1):\n",
    "            temp = first + second \n",
    "            first = second\n",
    "            second = temp\n",
    "        return temp\n",
    "\n",
    "for i in range(2):\n",
    "    x = int(input(\"Enter the integer(must >3 ) > \"))\n",
    "    while x<=3:\n",
    "        x = int(input(\"Enter the integer(must >3 ) > \"))\n",
    "    print(\"The answer is: {:d}\".format(Fibonacci(x)))\n",
    "    print()"
   ]
  },
  {
   "cell_type": "code",
   "execution_count": 98,
   "id": "067cbe57",
   "metadata": {},
   "outputs": [
    {
     "name": "stdout",
     "output_type": "stream",
     "text": [
      "Enter the integer (must larger than 1) > 2345\n",
      "Largest prime factor: 67\n",
      "Smallest prime factor: 5\n"
     ]
    }
   ],
   "source": [
    "#problem 3\n",
    "\n",
    "def prime(n): #in this function,we first find factors of a num,and determine the max(or smllest) prime number\n",
    "    factors = []\n",
    "    for i in range(1,int(n**0.5)+1): #find factors\n",
    "        if (n%i) == 0:\n",
    "            factors.append(i)\n",
    "            factors.append(n//i)\n",
    "    factors.sort()\n",
    "    \n",
    "    prime = []\n",
    "    for j in factors[1:]:\n",
    "        flag = bool(1)\n",
    "        for k in range(2,j):\n",
    "            if j%k == 0:\n",
    "                flag = bool(0)\n",
    "                break\n",
    "        if flag:\n",
    "            prime.append(j)\n",
    "    t = min(prime),max(prime)  #I want to practice returning multiple value,so write this way\n",
    "    return t\n",
    "\n",
    "x = int(input(\"Enter the integer (must larger than 1) > \"))\n",
    "while x <=1:\n",
    "    x = int(input(\"Enter the integer (must larger than 1) > \"))\n",
    "value = prime(x)\n",
    "print(\"Largest prime factor:\",max(value))\n",
    "print(\"Smallest prime factor:\",min(value))"
   ]
  },
  {
   "cell_type": "code",
   "execution_count": 99,
   "id": "27715578",
   "metadata": {},
   "outputs": [
    {
     "name": "stdout",
     "output_type": "stream",
     "text": [
      "Enter the word> hello world\n",
      "The most character and times is : ['l', 3]\n",
      "\n",
      "Enter the word> aabbccdd\n",
      "The most character and times are : [['a', 2], ['b', 2], ['c', 2], ['d', 2]]\n",
      "\n"
     ]
    }
   ],
   "source": [
    "#problem 4\n",
    "def most_common_character(x):\n",
    "    frequent = []\n",
    "    ch = 'a'\n",
    "    max = 0\n",
    "    for i in x: #在字串中找出有出現最多次數的字母\n",
    "        if max < x.count(i):\n",
    "            max = x.count(i)\n",
    "    \n",
    "    for j in x:\n",
    "        if x.count(j) == max and [j,max] not in frequent: #找到跟出現次數跟max相符的字母，而且不要重複放入\n",
    "            ch = j\n",
    "            frequent.append([j,max])\n",
    "            \n",
    "            \n",
    "    if len(frequent)== 1:\n",
    "        print(\"The most character and times is :\",[ch,max])\n",
    "    else:\n",
    "        print(\"The most character and times are :\",frequent)\n",
    "\n",
    "for i in range(2):\n",
    "    x = input(\"Enter the word> \")\n",
    "    most_common_character(x)\n",
    "    print()"
   ]
  },
  {
   "cell_type": "code",
   "execution_count": 100,
   "id": "fb43db3c",
   "metadata": {},
   "outputs": [
    {
     "name": "stdout",
     "output_type": "stream",
     "text": [
      "Enter the numbers> 5 2 9 1 5 6\n",
      "The answer of merge sort is: [1, 2, 5, 5, 6, 9], time is: 1.007921s\n",
      "The answer of bubble sort is: [1, 2, 5, 5, 6, 9], time is: 1.007687s\n"
     ]
    }
   ],
   "source": [
    "#problem 5\n",
    "\n",
    "import time\n",
    "\n",
    "def bubble_sort(x):\n",
    "    for i in range(len(x)-1):\n",
    "        for j in range(0,len(x)-1-i):\n",
    "            if x[j] > x[j+1]:\n",
    "                x[j],x[j+1] = x[j+1],x[j] #swap\n",
    "    return x\n",
    "\n",
    "def merge(left, right):\n",
    "    result = []\n",
    "\n",
    "    while len(left) and len(right):\n",
    "        if (left[0] < right[0]):\n",
    "            result.append(left.pop(0))\n",
    "        else:\n",
    "            result.append(right.pop(0))\n",
    "\n",
    "     # add any remaining elements from left or right array to the result array\n",
    "    result = result+left if len(left) else result+right\n",
    "    return result\n",
    "\n",
    "def merge_sort(array):\n",
    "    if len(array) < 2:\n",
    "        return array\n",
    "\n",
    "    #分半\n",
    "    mid = len(array)//2\n",
    "    leftArray = array[:mid]\n",
    "    rightArray = array[mid:]\n",
    "\n",
    "    return merge(merge_sort(leftArray),merge_sort(rightArray))\n",
    "  \n",
    "# get input from user and convert to list of integers    \n",
    "arr = input(\"Enter the numbers> \")\n",
    "arr = [int(x) for x in arr.split()]\n",
    "\n",
    "start = time.time()\n",
    "time.sleep(1) #短暫休息確保時間可以印出\n",
    "n1 = merge_sort(arr)\n",
    "elapsed = time.time()-start\n",
    "print(\"The answer of merge sort is: {}, time is: {:f}s\".format(n1,elapsed))\n",
    "\n",
    "start = time.time() \n",
    "time.sleep(1) #短暫休息確保時間可以印出\n",
    "n2 = bubble_sort(arr)\n",
    "elapsed = time.time()-start\n",
    "print(\"The answer of bubble sort is: {}, time is: {:f}s\".format(n2,elapsed))"
   ]
  },
  {
   "cell_type": "code",
   "execution_count": null,
   "id": "68a0f870",
   "metadata": {},
   "outputs": [],
   "source": []
  },
  {
   "cell_type": "code",
   "execution_count": null,
   "id": "cd7d13ee",
   "metadata": {},
   "outputs": [],
   "source": []
  }
 ],
 "metadata": {
  "kernelspec": {
   "display_name": "Python 3 (ipykernel)",
   "language": "python",
   "name": "python3"
  },
  "language_info": {
   "codemirror_mode": {
    "name": "ipython",
    "version": 3
   },
   "file_extension": ".py",
   "mimetype": "text/x-python",
   "name": "python",
   "nbconvert_exporter": "python",
   "pygments_lexer": "ipython3",
   "version": "3.9.13"
  }
 },
 "nbformat": 4,
 "nbformat_minor": 5
}
