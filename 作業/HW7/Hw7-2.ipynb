{
 "cells": [
  {
   "cell_type": "code",
   "execution_count": 1,
   "metadata": {},
   "outputs": [],
   "source": [
    "# Making web pages with Django consists of three stages: defining URLs,\n",
    "# writing views, and writing templates.\n",
    "\n",
    "# 1. Mapping a URL: 改變原來map到的網址 (ll_project -> urls.py):\n",
    "# using path() function\n",
    "# 2. Writing a View\n",
    "# using render() function\n",
    "# A view function takes in information from a request, prepares the data\n",
    "# needed to generate a page, and then sends the data back to the browser.\n",
    "# 3. Writing a Template\n",
    "# The template defines what the page should look like, and Django fills in\n",
    "# the relevant data each time the page is requested.\n",
    "\n",
    "# We will make a new folder \"templates\".\n",
    "# In this new folder, make another new folder called \"learning_logs\""
   ]
  },
  {
   "cell_type": "code",
   "execution_count": 2,
   "metadata": {},
   "outputs": [
    {
     "data": {
      "text/html": [
       "<img src=\"./test5.PNG\", width=900 height=280>\n",
       "# 更改了home page\n"
      ],
      "text/plain": [
       "<IPython.core.display.HTML object>"
      ]
     },
     "metadata": {},
     "output_type": "display_data"
    }
   ],
   "source": [
    "%%html\n",
    "<img src=\"./test5.PNG\", width=900 height=280>\n",
    "# 更改了home page"
   ]
  },
  {
   "cell_type": "code",
   "execution_count": 3,
   "metadata": {},
   "outputs": [],
   "source": [
    "# Building Additional Pages:\n",
    "# to display data (Topic & Entries)\n",
    "# Use Parent Template(base.html) and Child Template to implement\n",
    "\n",
    "# The Topics Page (Base)\n",
    "#   -Individual Topic Pages (針對某個Topic的網頁)"
   ]
  },
  {
   "cell_type": "code",
   "execution_count": 5,
   "metadata": {},
   "outputs": [
    {
     "data": {
      "text/html": [
       "<img src=\"./test6.PNG\", width=400 height=280>\n",
       "# 新增Topics 的 page\n"
      ],
      "text/plain": [
       "<IPython.core.display.HTML object>"
      ]
     },
     "metadata": {},
     "output_type": "display_data"
    }
   ],
   "source": [
    "%%html\n",
    "<img src=\"./test6.PNG\", width=400 height=280>\n",
    "# 新增Topics 的 page"
   ]
  },
  {
   "cell_type": "code",
   "execution_count": 9,
   "metadata": {},
   "outputs": [
    {
     "data": {
      "text/html": [
       "<img src=\"./test7.PNG\", width=440 height=320>\n",
       "# 能進入某個特定 Topic的網頁\n"
      ],
      "text/plain": [
       "<IPython.core.display.HTML object>"
      ]
     },
     "metadata": {},
     "output_type": "display_data"
    }
   ],
   "source": [
    "%%html\n",
    "<img src=\"./test7.PNG\", width=440 height=320>\n",
    "# 能進入某個特定 Topic的網頁"
   ]
  },
  {
   "cell_type": "code",
   "execution_count": null,
   "metadata": {},
   "outputs": [],
   "source": [
    "# Summary Ch18 Django\n",
    "# we learned:\n",
    "#   -virtual environment\n",
    "#   -set up a project\n",
    "#   -check if the project can work (http://127.0.0.1:8000/)\n",
    "#   -set up an app and defined models to represent the data for your app\n",
    "#   -some database concept\n",
    "#   -Django shell\n",
    "#   -define URLs, create view functions, and write templates to make pages for your site\n",
    "#   -template inheritance"
   ]
  }
 ],
 "metadata": {
  "kernelspec": {
   "display_name": "base",
   "language": "python",
   "name": "python3"
  },
  "language_info": {
   "codemirror_mode": {
    "name": "ipython",
    "version": 3
   },
   "file_extension": ".py",
   "mimetype": "text/x-python",
   "name": "python",
   "nbconvert_exporter": "python",
   "pygments_lexer": "ipython3",
   "version": "3.9.13"
  },
  "orig_nbformat": 4
 },
 "nbformat": 4,
 "nbformat_minor": 2
}
