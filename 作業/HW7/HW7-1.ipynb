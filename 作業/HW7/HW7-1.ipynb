{
 "cells": [
  {
   "cell_type": "code",
   "execution_count": null,
   "id": "0b3e9c21",
   "metadata": {},
   "outputs": [],
   "source": [
    "# spec: 描述project所做的事 ex: 功能、user interface\n",
    "# In learning log project: 可以登錄、註冊一個帳號\n",
    "# 新增Topic, Entry , read and modify them"
   ]
  },
  {
   "cell_type": "code",
   "execution_count": 1,
   "id": "ac6e4685",
   "metadata": {},
   "outputs": [],
   "source": [
    "# following the textbook\n",
    "# 1. Create a Virtual Environment\n",
    "# 先創造一個檔案並進入(learning_log)\n",
    "# python -m venv ll_env :創造一個virtual environment叫ll_env\n",
    "\n",
    "# 2.Activating the Virtual Environment\n",
    "# ll_env\\Scripts\\activate 啟動虛擬環境(因為我用windows跑)\n",
    "# 啟動虛擬環境之後可以使用此虛擬環境安裝的東西 或 新安裝東西\n",
    "\n",
    "# deactivate :離開虛擬環境\n",
    "# pip install --upgrade pip\n",
    "# 安裝Django: pip install django \n",
    "\n",
    "# 建立專案: django-admin startproject ll_project . (創造一個專案叫ll_project)\n",
    "# Creating the Database: python manage.py migrate\n",
    "\n",
    "# setting.py: how Django interacts with your system and manages your project\n",
    "# urls.py: tells Django which pages to build in response to browser requests\n",
    "# wsgi.py: helps Django serve the files it creates\n",
    "\n",
    "# modify the database means \"migrating the database\".\n",
    "# python manage.py migrate (第一次要用，確保可以跟project同步)\n",
    "# 會生成 db.sqlite3\n",
    "\n",
    "# run server: python manage.py runserver "
   ]
  },
  {
   "cell_type": "code",
   "execution_count": 18,
   "id": "8739235a",
   "metadata": {},
   "outputs": [
    {
     "data": {
      "text/html": [
       "<img src=\"./test.PNG\", width=320, height=240>\n",
       "# 成功跑server的圖片\n"
      ],
      "text/plain": [
       "<IPython.core.display.HTML object>"
      ]
     },
     "metadata": {},
     "output_type": "display_data"
    }
   ],
   "source": [
    "%%html\n",
    "<img src=\"./test.PNG\", width=320, height=240>\n",
    "# 成功跑server的圖片"
   ]
  },
  {
   "cell_type": "code",
   "execution_count": 19,
   "id": "7ea53d32",
   "metadata": {},
   "outputs": [],
   "source": [
    "# app 在 Django 代表的是一個網站的應用\n",
    "# 而Django 由 app 組成\n",
    "# python manage.py startapp learning_logs (創造一個learning_logs的資料夾放之後會用到的東西)\n",
    "# In learning_logs app , models.py 會寫如何作用 (app的功能)\n",
    "\n",
    "# 開啟models.py -> 修改\n",
    "# model: tell Django how to work with the data that will be stored in the app\n",
    "# settings.py (in ll_project) 要放入我們新建的app\n",
    "# 跑 python manage.py makemigrations learning_logs (learning_logs/migrations/0001_initial.py)\n",
    "# 跟 python manage.py migrate\n",
    "# 固定流程: 修改models.py -> makemigrations this app -> migrate to the database\n",
    "\n",
    "# Superuser:\n",
    "# (ll_env)learning_log$ python manage.py createsuperuser (創造superuser)\n",
    "# Username = password = ll_admin\n",
    "\n",
    "# learning_logs->admin.py:\n",
    "# admin.site.register(Topic) tells Django to manage our model through the admin site.\n",
    "\n",
    "# Registering a Model with the Admin Site\n",
    "# enter http://127.0.0.1:8000/admin/ to see if we did it right"
   ]
  },
  {
   "cell_type": "code",
   "execution_count": 31,
   "id": "d5211f9a",
   "metadata": {},
   "outputs": [
    {
     "data": {
      "text/html": [
       "<img src=\"./test2.PNG\", width=900 height=280>\n",
       "# Superuser能用的圖片\n"
      ],
      "text/plain": [
       "<IPython.core.display.HTML object>"
      ]
     },
     "metadata": {},
     "output_type": "display_data"
    }
   ],
   "source": [
    "%%html\n",
    "<img src=\"./test2.PNG\", width=900 height=280>\n",
    "# Superuser能用的圖片"
   ]
  },
  {
   "cell_type": "code",
   "execution_count": 34,
   "id": "6b9b0a1b",
   "metadata": {},
   "outputs": [],
   "source": [
    "# 進入Topic (裡面沒東西)\n",
    "# 加入兩個新data"
   ]
  },
  {
   "cell_type": "code",
   "execution_count": 33,
   "id": "bb764866",
   "metadata": {},
   "outputs": [
    {
     "data": {
      "text/html": [
       "<img src=\"./test3.PNG\", width=900 height=280>\n",
       "# 加入完Topic的圖片\n"
      ],
      "text/plain": [
       "<IPython.core.display.HTML object>"
      ]
     },
     "metadata": {},
     "output_type": "display_data"
    }
   ],
   "source": [
    "%%html\n",
    "<img src=\"./test3.PNG\", width=900 height=280>\n",
    "# 加入完Topic的圖片"
   ]
  },
  {
   "cell_type": "code",
   "execution_count": 35,
   "id": "5b88457b",
   "metadata": {},
   "outputs": [],
   "source": [
    "# 現在要做user可以做的部分\n",
    "# Defining the Entry Model ->Migrating the Entry Model ->Registering Entry with the Admin Site\n",
    "# 有新建model-> python manage.py makemigrations learning_logs -> python manage.py migrate\n",
    "\n",
    "# create three entries\n",
    "\n",
    "# The Django Shell: (python manage.py shell)\n",
    "# launches a Python interpreter that \n",
    "# you can use to explore the data stored in your project’s database."
   ]
  },
  {
   "cell_type": "code",
   "execution_count": 36,
   "id": "bdb002da",
   "metadata": {},
   "outputs": [
    {
     "data": {
      "text/html": [
       "<img src=\"./test4.PNG\", width=900 height=280>\n",
       "# 加入好 entry的圖片\n"
      ],
      "text/plain": [
       "<IPython.core.display.HTML object>"
      ]
     },
     "metadata": {},
     "output_type": "display_data"
    }
   ],
   "source": [
    "%%html\n",
    "<img src=\"./test4.PNG\", width=900 height=280>\n",
    "# 加入好 entry的圖片"
   ]
  },
  {
   "cell_type": "code",
   "execution_count": null,
   "id": "348127b2",
   "metadata": {},
   "outputs": [],
   "source": []
  }
 ],
 "metadata": {
  "kernelspec": {
   "display_name": "Python 3 (ipykernel)",
   "language": "python",
   "name": "python3"
  },
  "language_info": {
   "codemirror_mode": {
    "name": "ipython",
    "version": 3
   },
   "file_extension": ".py",
   "mimetype": "text/x-python",
   "name": "python",
   "nbconvert_exporter": "python",
   "pygments_lexer": "ipython3",
   "version": "3.9.13"
  }
 },
 "nbformat": 4,
 "nbformat_minor": 5
}
